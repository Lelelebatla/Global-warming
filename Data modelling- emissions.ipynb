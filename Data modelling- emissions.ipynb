{
 "cells": [
  {
   "cell_type": "code",
   "execution_count": 8,
   "id": "a6447b05",
   "metadata": {
    "scrolled": false
   },
   "outputs": [
    {
     "name": "stdout",
     "output_type": "stream",
     "text": [
      "<class 'pandas.core.frame.DataFrame'>\n",
      "RangeIndex: 13953 entries, 0 to 13952\n",
      "Data columns (total 4 columns):\n",
      " #   Column        Non-Null Count  Dtype  \n",
      "---  ------        --------------  -----  \n",
      " 0   country_code  13953 non-null  object \n",
      " 1   country_name  13953 non-null  object \n",
      " 2   year          13953 non-null  int64  \n",
      " 3   value         13953 non-null  float64\n",
      "dtypes: float64(1), int64(1), object(2)\n",
      "memory usage: 436.2+ KB\n",
      "None\n"
     ]
    }
   ],
   "source": [
    "import pandas as pd\n",
    "import numpy as np\n",
    "import matplotlib.pyplot as plt\n",
    "\n",
    "df = pd.read_csv('co2_emissions_kt_by_country.csv',  encoding = \"ISO-8859-1\")\n",
    "\n",
    "print (df.info())"
   ]
  },
  {
   "cell_type": "code",
   "execution_count": 24,
   "id": "11392f3a",
   "metadata": {
    "scrolled": true
   },
   "outputs": [
    {
     "name": "stdout",
     "output_type": "stream",
     "text": [
      "               year         value\n",
      "count  13953.000000  1.395300e+04\n",
      "mean    1990.732316  8.254983e+05\n",
      "std       17.187585  2.788923e+06\n",
      "min     1960.000000 -8.067400e+01\n",
      "25%     1976.000000  1.100000e+03\n",
      "50%     1992.000000  1.390000e+04\n",
      "75%     2006.000000  1.642779e+05\n",
      "max     2019.000000  3.434401e+07\n"
     ]
    }
   ],
   "source": [
    "print (df.describe())"
   ]
  },
  {
   "cell_type": "code",
   "execution_count": 25,
   "id": "7d42d57d",
   "metadata": {},
   "outputs": [
    {
     "name": "stdout",
     "output_type": "stream",
     "text": [
      "      country_code country_name  year         value\n",
      "0              ABW        Aruba  1960  11092.675000\n",
      "1              ABW        Aruba  1961  11576.719000\n",
      "2              ABW        Aruba  1962  12713.489000\n",
      "3              ABW        Aruba  1963  12178.107000\n",
      "4              ABW        Aruba  1964  11840.743000\n",
      "...            ...          ...   ...           ...\n",
      "13948          ZWE     Zimbabwe  2015  12430.000305\n",
      "13949          ZWE     Zimbabwe  2016  11020.000458\n",
      "13950          ZWE     Zimbabwe  2017  10340.000153\n",
      "13951          ZWE     Zimbabwe  2018  12380.000114\n",
      "13952          ZWE     Zimbabwe  2019  11760.000229\n",
      "\n",
      "[13953 rows x 4 columns]\n"
     ]
    }
   ],
   "source": [
    "print (df)"
   ]
  },
  {
   "cell_type": "code",
   "execution_count": 8,
   "id": "871118c1",
   "metadata": {},
   "outputs": [
    {
     "data": {
      "text/plain": [
       "array(['Aruba', 'Africa Eastern and Southern', 'Afghanistan',\n",
       "       'Africa Western and Central', 'Angola', 'Albania', 'Andorra',\n",
       "       'Arab World', 'United Arab Emirates', 'Argentina', 'Armenia',\n",
       "       'Antigua and Barbuda', 'Australia', 'Austria', 'Azerbaijan',\n",
       "       'Burundi', 'Belgium', 'Benin', 'Burkina Faso', 'Bangladesh',\n",
       "       'Bulgaria', 'Bahrain', 'Bahamas, The', 'Bosnia and Herzegovina',\n",
       "       'Belarus', 'Belize', 'Bermuda', 'Bolivia', 'Brazil', 'Barbados',\n",
       "       'Brunei Darussalam', 'Bhutan', 'Botswana',\n",
       "       'Central African Republic', 'Canada',\n",
       "       'Central Europe and the Baltics', 'Switzerland', 'Chile', 'China',\n",
       "       \"Cote d'Ivoire\", 'Cameroon', 'Congo, Dem. Rep.', 'Congo, Rep.',\n",
       "       'Colombia', 'Comoros', 'Cabo Verde', 'Costa Rica',\n",
       "       'Caribbean small states', 'Cuba', 'Curacao', 'Cayman Islands',\n",
       "       'Cyprus', 'Czechia', 'Germany', 'Djibouti', 'Dominica', 'Denmark',\n",
       "       'Dominican Republic', 'Algeria',\n",
       "       'East Asia & Pacific (excluding high income)',\n",
       "       'Early-demographic dividend', 'East Asia & Pacific',\n",
       "       'Europe & Central Asia (excluding high income)',\n",
       "       'Europe & Central Asia', 'Ecuador', 'Egypt, Arab Rep.',\n",
       "       'Euro area', 'Eritrea', 'Spain', 'Estonia', 'Ethiopia',\n",
       "       'European Union', 'Fragile and conflict affected situations',\n",
       "       'Finland', 'Fiji', 'France', 'Faroe Islands',\n",
       "       'Micronesia, Fed. Sts.', 'Gabon', 'United Kingdom', 'Georgia',\n",
       "       'Ghana', 'Gibraltar', 'Guinea', 'Gambia, The', 'Guinea-Bissau',\n",
       "       'Equatorial Guinea', 'Greece', 'Grenada', 'Greenland', 'Guatemala',\n",
       "       'Guyana', 'High income', 'Hong Kong SAR, China', 'Honduras',\n",
       "       'Heavily indebted poor countries (HIPC)', 'Croatia', 'Haiti',\n",
       "       'Hungary', 'IBRD only', 'IDA & IBRD total', 'IDA total',\n",
       "       'IDA blend', 'Indonesia', 'IDA only', 'India', 'Ireland',\n",
       "       'Iran, Islamic Rep.', 'Iraq', 'Iceland', 'Israel', 'Italy',\n",
       "       'Jamaica', 'Jordan', 'Japan', 'Kazakhstan', 'Kenya',\n",
       "       'Kyrgyz Republic', 'Cambodia', 'Kiribati', 'St. Kitts and Nevis',\n",
       "       'Korea, Rep.', 'Kuwait',\n",
       "       'Latin America & Caribbean (excluding high income)', 'Lao PDR',\n",
       "       'Lebanon', 'Liberia', 'Libya', 'St. Lucia',\n",
       "       'Latin America & Caribbean',\n",
       "       'Least developed countries: UN classification', 'Low income',\n",
       "       'Liechtenstein', 'Sri Lanka', 'Lower middle income',\n",
       "       'Low & middle income', 'Lesotho', 'Late-demographic dividend',\n",
       "       'Lithuania', 'Luxembourg', 'Latvia', 'Macao SAR, China', 'Morocco',\n",
       "       'Moldova', 'Madagascar', 'Maldives', 'Middle East & North Africa',\n",
       "       'Mexico', 'Marshall Islands', 'Middle income', 'North Macedonia',\n",
       "       'Mali', 'Malta', 'Myanmar',\n",
       "       'Middle East & North Africa (excluding high income)', 'Montenegro',\n",
       "       'Mongolia', 'Mozambique', 'Mauritania', 'Mauritius', 'Malawi',\n",
       "       'Malaysia', 'North America', 'Namibia', 'New Caledonia', 'Niger',\n",
       "       'Nigeria', 'Nicaragua', 'Netherlands', 'Norway', 'Nepal', 'Nauru',\n",
       "       'New Zealand', 'OECD members', 'Oman', 'Other small states',\n",
       "       'Pakistan', 'Panama', 'Peru', 'Philippines', 'Palau',\n",
       "       'Papua New Guinea', 'Poland', 'Pre-demographic dividend',\n",
       "       \"Korea, Dem. People's Rep.\", 'Portugal', 'Paraguay',\n",
       "       'West Bank and Gaza', 'Pacific island small states',\n",
       "       'Post-demographic dividend', 'French Polynesia', 'Qatar',\n",
       "       'Romania', 'Russian Federation', 'Rwanda', 'South Asia',\n",
       "       'Saudi Arabia', 'Sudan', 'Senegal', 'Singapore', 'Solomon Islands',\n",
       "       'Sierra Leone', 'El Salvador', 'Somalia', 'Serbia',\n",
       "       'Sub-Saharan Africa (excluding high income)', 'South Sudan',\n",
       "       'Sub-Saharan Africa', 'Small states', 'Sao Tome and Principe',\n",
       "       'Suriname', 'Slovak Republic', 'Slovenia', 'Sweden', 'Eswatini',\n",
       "       'Sint Maarten (Dutch part)', 'Seychelles', 'Syrian Arab Republic',\n",
       "       'Turks and Caicos Islands', 'Chad',\n",
       "       'East Asia & Pacific (IDA & IBRD countries)',\n",
       "       'Europe & Central Asia (IDA & IBRD countries)', 'Togo', 'Thailand',\n",
       "       'Tajikistan', 'Turkmenistan',\n",
       "       'Latin America & the Caribbean (IDA & IBRD countries)',\n",
       "       'Timor-Leste', 'Middle East & North Africa (IDA & IBRD countries)',\n",
       "       'Tonga', 'South Asia (IDA & IBRD)',\n",
       "       'Sub-Saharan Africa (IDA & IBRD countries)', 'Trinidad and Tobago',\n",
       "       'Tunisia', 'Turkey', 'Turkiye', 'Tuvalu', 'Tanzania', 'Uganda',\n",
       "       'Ukraine', 'Upper middle income', 'Uruguay', 'United States',\n",
       "       'Uzbekistan', 'St. Vincent and the Grenadines', 'Venezuela, RB',\n",
       "       'British Virgin Islands', 'Vietnam', 'Vanuatu', 'World', 'Samoa',\n",
       "       'Kosovo', 'Yemen, Rep.', 'South Africa', 'Zambia', 'Zimbabwe'],\n",
       "      dtype=object)"
      ]
     },
     "execution_count": 8,
     "metadata": {},
     "output_type": "execute_result"
    }
   ],
   "source": [
    "df['country_name'].unique()"
   ]
  },
  {
   "cell_type": "code",
   "execution_count": 6,
   "id": "7c76dcd5",
   "metadata": {},
   "outputs": [
    {
     "data": {
      "text/html": [
       "<div>\n",
       "<style scoped>\n",
       "    .dataframe tbody tr th:only-of-type {\n",
       "        vertical-align: middle;\n",
       "    }\n",
       "\n",
       "    .dataframe tbody tr th {\n",
       "        vertical-align: top;\n",
       "    }\n",
       "\n",
       "    .dataframe thead th {\n",
       "        text-align: right;\n",
       "    }\n",
       "</style>\n",
       "<table border=\"1\" class=\"dataframe\">\n",
       "  <thead>\n",
       "    <tr style=\"text-align: right;\">\n",
       "      <th></th>\n",
       "      <th>country_name</th>\n",
       "      <th>year</th>\n",
       "      <th>value</th>\n",
       "    </tr>\n",
       "  </thead>\n",
       "  <tbody>\n",
       "    <tr>\n",
       "      <th>13592</th>\n",
       "      <td>World</td>\n",
       "      <td>1960</td>\n",
       "      <td>9.463838e+06</td>\n",
       "    </tr>\n",
       "    <tr>\n",
       "      <th>13593</th>\n",
       "      <td>World</td>\n",
       "      <td>1961</td>\n",
       "      <td>9.423934e+06</td>\n",
       "    </tr>\n",
       "    <tr>\n",
       "      <th>13594</th>\n",
       "      <td>World</td>\n",
       "      <td>1962</td>\n",
       "      <td>9.732506e+06</td>\n",
       "    </tr>\n",
       "    <tr>\n",
       "      <th>13595</th>\n",
       "      <td>World</td>\n",
       "      <td>1963</td>\n",
       "      <td>1.027450e+07</td>\n",
       "    </tr>\n",
       "    <tr>\n",
       "      <th>13596</th>\n",
       "      <td>World</td>\n",
       "      <td>1964</td>\n",
       "      <td>1.082025e+07</td>\n",
       "    </tr>\n",
       "  </tbody>\n",
       "</table>\n",
       "</div>"
      ],
      "text/plain": [
       "      country_name  year         value\n",
       "13592        World  1960  9.463838e+06\n",
       "13593        World  1961  9.423934e+06\n",
       "13594        World  1962  9.732506e+06\n",
       "13595        World  1963  1.027450e+07\n",
       "13596        World  1964  1.082025e+07"
      ]
     },
     "execution_count": 6,
     "metadata": {},
     "output_type": "execute_result"
    }
   ],
   "source": [
    "emissions.head()"
   ]
  },
  {
   "cell_type": "code",
   "execution_count": 2,
   "id": "36d396e5",
   "metadata": {
    "scrolled": true
   },
   "outputs": [
    {
     "name": "stdout",
     "output_type": "stream",
     "text": [
      "      country_code country_name  year         value\n",
      "33             ABW        Aruba  1993    649.059000\n",
      "34             ABW        Aruba  1994    660.060000\n",
      "35             ABW        Aruba  1995    707.731000\n",
      "36             ABW        Aruba  1996    726.066000\n",
      "37             ABW        Aruba  1997    759.069000\n",
      "...            ...          ...   ...           ...\n",
      "13948          ZWE     Zimbabwe  2015  12430.000305\n",
      "13949          ZWE     Zimbabwe  2016  11020.000458\n",
      "13950          ZWE     Zimbabwe  2017  10340.000153\n",
      "13951          ZWE     Zimbabwe  2018  12380.000114\n",
      "13952          ZWE     Zimbabwe  2019  11760.000229\n",
      "\n",
      "[6782 rows x 4 columns]\n"
     ]
    }
   ],
   "source": [
    "emissions = df.loc[df['year'] >= 1993]\n",
    "print(emissions)"
   ]
  },
  {
   "cell_type": "code",
   "execution_count": 3,
   "id": "a7247bc8",
   "metadata": {
    "scrolled": false
   },
   "outputs": [
    {
     "name": "stdout",
     "output_type": "stream",
     "text": [
      "      country_name  year         value\n",
      "33           Aruba  1993    649.059000\n",
      "34           Aruba  1994    660.060000\n",
      "35           Aruba  1995    707.731000\n",
      "36           Aruba  1996    726.066000\n",
      "37           Aruba  1997    759.069000\n",
      "...            ...   ...           ...\n",
      "13948     Zimbabwe  2015  12430.000305\n",
      "13949     Zimbabwe  2016  11020.000458\n",
      "13950     Zimbabwe  2017  10340.000153\n",
      "13951     Zimbabwe  2018  12380.000114\n",
      "13952     Zimbabwe  2019  11760.000229\n",
      "\n",
      "[6782 rows x 3 columns]\n"
     ]
    }
   ],
   "source": [
    "emissions = emissions[['country_name', 'year', 'value']]\n",
    "print(emissions)"
   ]
  },
  {
   "cell_type": "code",
   "execution_count": 4,
   "id": "fa80f45b",
   "metadata": {
    "scrolled": true
   },
   "outputs": [
    {
     "name": "stdout",
     "output_type": "stream",
     "text": [
      "      country_name  year         value\n",
      "13625        World  1993  2.093712e+07\n",
      "13626        World  1994  2.105295e+07\n",
      "13627        World  1995  2.165284e+07\n",
      "13628        World  1996  2.211061e+07\n",
      "13629        World  1997  2.249205e+07\n",
      "World    27\n",
      "Name: country_name, dtype: int64\n"
     ]
    }
   ],
   "source": [
    "emissions = emissions[emissions['country_name'] == \"World\"]\n",
    "print(emissions.head())\n",
    "print (emissions['country_name'].value_counts())"
   ]
  },
  {
   "cell_type": "code",
   "execution_count": 8,
   "id": "117ae081",
   "metadata": {
    "scrolled": false
   },
   "outputs": [
    {
     "name": "stdout",
     "output_type": "stream",
     "text": [
      "      country_name  year            value\n",
      "13625        World  1993  20937123.283988\n",
      "13626        World  1994  21052949.101765\n",
      "13627        World  1995  21652838.848343\n",
      "13628        World  1996   22110607.50998\n",
      "13629        World  1997  22492054.362559\n",
      "13630        World  1998  22613709.035227\n",
      "13631        World  1999  22720117.592763\n",
      "13632        World  2000  23445433.273458\n",
      "13633        World  2001   23845771.44518\n",
      "13634        World  2002  24165261.257135\n",
      "13635        World  2003  25285349.244404\n",
      "13636        World  2004  26434355.260361\n",
      "13637        World  2005  27414328.022854\n",
      "13638        World  2006  28302931.656345\n",
      "13639        World  2007  29368779.202002\n",
      "13640        World  2008  29595752.397156\n",
      "13641        World  2009   29267375.18512\n",
      "13642        World  2010  31043476.982002\n",
      "13643        World  2011  32021108.256795\n",
      "13644        World  2012  32460316.859925\n",
      "13645        World  2013  33119382.990346\n",
      "13646        World  2014  33198729.820472\n",
      "13647        World  2015  32995536.020088\n",
      "13648        World  2016   33018556.39916\n",
      "13649        World  2017  33514537.911194\n",
      "13650        World  2018  34289350.660764\n",
      "13651        World  2019  34344006.072096\n"
     ]
    }
   ],
   "source": [
    "emissions= emissions.transpose()\n",
    "print(emissions)"
   ]
  },
  {
   "cell_type": "code",
   "execution_count": 5,
   "id": "0478b294",
   "metadata": {
    "scrolled": true
   },
   "outputs": [
    {
     "name": "stdout",
     "output_type": "stream",
     "text": [
      "       year         value\n",
      "13625  1993  2.093712e+07\n",
      "13626  1994  2.105295e+07\n",
      "13627  1995  2.165284e+07\n",
      "13628  1996  2.211061e+07\n",
      "13629  1997  2.249205e+07\n",
      "13630  1998  2.261371e+07\n",
      "13631  1999  2.272012e+07\n",
      "13632  2000  2.344543e+07\n",
      "13633  2001  2.384577e+07\n",
      "13634  2002  2.416526e+07\n",
      "13635  2003  2.528535e+07\n",
      "13636  2004  2.643436e+07\n",
      "13637  2005  2.741433e+07\n",
      "13638  2006  2.830293e+07\n",
      "13639  2007  2.936878e+07\n",
      "13640  2008  2.959575e+07\n",
      "13641  2009  2.926738e+07\n",
      "13642  2010  3.104348e+07\n",
      "13643  2011  3.202111e+07\n",
      "13644  2012  3.246032e+07\n",
      "13645  2013  3.311938e+07\n",
      "13646  2014  3.319873e+07\n",
      "13647  2015  3.299554e+07\n",
      "13648  2016  3.301856e+07\n",
      "13649  2017  3.351454e+07\n",
      "13650  2018  3.428935e+07\n",
      "13651  2019  3.434401e+07\n"
     ]
    }
   ],
   "source": [
    "emissions = emissions[['year', 'value']]\n",
    "print(emissions)"
   ]
  },
  {
   "cell_type": "code",
   "execution_count": 11,
   "id": "b0c726d4",
   "metadata": {},
   "outputs": [
    {
     "data": {
      "text/html": [
       "<div>\n",
       "<style scoped>\n",
       "    .dataframe tbody tr th:only-of-type {\n",
       "        vertical-align: middle;\n",
       "    }\n",
       "\n",
       "    .dataframe tbody tr th {\n",
       "        vertical-align: top;\n",
       "    }\n",
       "\n",
       "    .dataframe thead th {\n",
       "        text-align: right;\n",
       "    }\n",
       "</style>\n",
       "<table border=\"1\" class=\"dataframe\">\n",
       "  <thead>\n",
       "    <tr style=\"text-align: right;\">\n",
       "      <th></th>\n",
       "      <th>year</th>\n",
       "      <th>Emissions</th>\n",
       "    </tr>\n",
       "  </thead>\n",
       "  <tbody>\n",
       "    <tr>\n",
       "      <th>13625</th>\n",
       "      <td>1993</td>\n",
       "      <td>20937123.283988</td>\n",
       "    </tr>\n",
       "    <tr>\n",
       "      <th>13626</th>\n",
       "      <td>1994</td>\n",
       "      <td>21052949.101765</td>\n",
       "    </tr>\n",
       "    <tr>\n",
       "      <th>13627</th>\n",
       "      <td>1995</td>\n",
       "      <td>21652838.848343</td>\n",
       "    </tr>\n",
       "    <tr>\n",
       "      <th>13628</th>\n",
       "      <td>1996</td>\n",
       "      <td>22110607.50998</td>\n",
       "    </tr>\n",
       "    <tr>\n",
       "      <th>13629</th>\n",
       "      <td>1997</td>\n",
       "      <td>22492054.362559</td>\n",
       "    </tr>\n",
       "    <tr>\n",
       "      <th>13630</th>\n",
       "      <td>1998</td>\n",
       "      <td>22613709.035227</td>\n",
       "    </tr>\n",
       "    <tr>\n",
       "      <th>13631</th>\n",
       "      <td>1999</td>\n",
       "      <td>22720117.592763</td>\n",
       "    </tr>\n",
       "    <tr>\n",
       "      <th>13632</th>\n",
       "      <td>2000</td>\n",
       "      <td>23445433.273458</td>\n",
       "    </tr>\n",
       "    <tr>\n",
       "      <th>13633</th>\n",
       "      <td>2001</td>\n",
       "      <td>23845771.44518</td>\n",
       "    </tr>\n",
       "    <tr>\n",
       "      <th>13634</th>\n",
       "      <td>2002</td>\n",
       "      <td>24165261.257135</td>\n",
       "    </tr>\n",
       "    <tr>\n",
       "      <th>13635</th>\n",
       "      <td>2003</td>\n",
       "      <td>25285349.244404</td>\n",
       "    </tr>\n",
       "    <tr>\n",
       "      <th>13636</th>\n",
       "      <td>2004</td>\n",
       "      <td>26434355.260361</td>\n",
       "    </tr>\n",
       "    <tr>\n",
       "      <th>13637</th>\n",
       "      <td>2005</td>\n",
       "      <td>27414328.022854</td>\n",
       "    </tr>\n",
       "    <tr>\n",
       "      <th>13638</th>\n",
       "      <td>2006</td>\n",
       "      <td>28302931.656345</td>\n",
       "    </tr>\n",
       "    <tr>\n",
       "      <th>13639</th>\n",
       "      <td>2007</td>\n",
       "      <td>29368779.202002</td>\n",
       "    </tr>\n",
       "    <tr>\n",
       "      <th>13640</th>\n",
       "      <td>2008</td>\n",
       "      <td>29595752.397156</td>\n",
       "    </tr>\n",
       "    <tr>\n",
       "      <th>13641</th>\n",
       "      <td>2009</td>\n",
       "      <td>29267375.18512</td>\n",
       "    </tr>\n",
       "    <tr>\n",
       "      <th>13642</th>\n",
       "      <td>2010</td>\n",
       "      <td>31043476.982002</td>\n",
       "    </tr>\n",
       "    <tr>\n",
       "      <th>13643</th>\n",
       "      <td>2011</td>\n",
       "      <td>32021108.256795</td>\n",
       "    </tr>\n",
       "    <tr>\n",
       "      <th>13644</th>\n",
       "      <td>2012</td>\n",
       "      <td>32460316.859925</td>\n",
       "    </tr>\n",
       "    <tr>\n",
       "      <th>13645</th>\n",
       "      <td>2013</td>\n",
       "      <td>33119382.990346</td>\n",
       "    </tr>\n",
       "    <tr>\n",
       "      <th>13646</th>\n",
       "      <td>2014</td>\n",
       "      <td>33198729.820472</td>\n",
       "    </tr>\n",
       "    <tr>\n",
       "      <th>13647</th>\n",
       "      <td>2015</td>\n",
       "      <td>32995536.020088</td>\n",
       "    </tr>\n",
       "    <tr>\n",
       "      <th>13648</th>\n",
       "      <td>2016</td>\n",
       "      <td>33018556.39916</td>\n",
       "    </tr>\n",
       "    <tr>\n",
       "      <th>13649</th>\n",
       "      <td>2017</td>\n",
       "      <td>33514537.911194</td>\n",
       "    </tr>\n",
       "    <tr>\n",
       "      <th>13650</th>\n",
       "      <td>2018</td>\n",
       "      <td>34289350.660764</td>\n",
       "    </tr>\n",
       "    <tr>\n",
       "      <th>13651</th>\n",
       "      <td>2019</td>\n",
       "      <td>34344006.072096</td>\n",
       "    </tr>\n",
       "  </tbody>\n",
       "</table>\n",
       "</div>"
      ],
      "text/plain": [
       "       year        Emissions\n",
       "13625  1993  20937123.283988\n",
       "13626  1994  21052949.101765\n",
       "13627  1995  21652838.848343\n",
       "13628  1996   22110607.50998\n",
       "13629  1997  22492054.362559\n",
       "13630  1998  22613709.035227\n",
       "13631  1999  22720117.592763\n",
       "13632  2000  23445433.273458\n",
       "13633  2001   23845771.44518\n",
       "13634  2002  24165261.257135\n",
       "13635  2003  25285349.244404\n",
       "13636  2004  26434355.260361\n",
       "13637  2005  27414328.022854\n",
       "13638  2006  28302931.656345\n",
       "13639  2007  29368779.202002\n",
       "13640  2008  29595752.397156\n",
       "13641  2009   29267375.18512\n",
       "13642  2010  31043476.982002\n",
       "13643  2011  32021108.256795\n",
       "13644  2012  32460316.859925\n",
       "13645  2013  33119382.990346\n",
       "13646  2014  33198729.820472\n",
       "13647  2015  32995536.020088\n",
       "13648  2016   33018556.39916\n",
       "13649  2017  33514537.911194\n",
       "13650  2018  34289350.660764\n",
       "13651  2019  34344006.072096"
      ]
     },
     "execution_count": 11,
     "metadata": {},
     "output_type": "execute_result"
    }
   ],
   "source": [
    "emissions.rename(columns = {'value' : 'Emissions'})"
   ]
  },
  {
   "cell_type": "code",
   "execution_count": 10,
   "id": "b1269756",
   "metadata": {},
   "outputs": [
    {
     "data": {
      "image/png": "[encoded data removed]",
      "text/plain": [
       "<Figure size 640x480 with 1 Axes>"
      ]
     },
     "metadata": {},
     "output_type": "display_data"
    }
   ],
   "source": [
    "emissions.value.plot(kind='box', vert=False)\n",
    "plt.title('Global Emissions')\n",
    "plt.grid()\n",
    "plt.show()"
   ]
  },
  {
   "cell_type": "code",
   "execution_count": 13,
   "id": "dcc5cd6a",
   "metadata": {},
   "outputs": [
    {
     "data": {
      "text/plain": [
       "[<matplotlib.lines.Line2D at 0x14b0fabb4c0>]"
      ]
     },
     "execution_count": 13,
     "metadata": {},
     "output_type": "execute_result"
    },
    {
     "data": {
      "image/png": "[encoded data removed]",
      "text/plain": [
       "<Figure size 640x480 with 1 Axes>"
      ]
     },
     "metadata": {},
     "output_type": "display_data"
    }
   ],
   "source": [
    "plt.plot(emissions.value)"
   ]
  },
  {
   "cell_type": "code",
   "execution_count": null,
   "id": "02f682d7",
   "metadata": {},
   "outputs": [],
   "source": []
  }
 ],
 "metadata": {
  "kernelspec": {
   "display_name": "Python 3 (ipykernel)",
   "language": "python",
   "name": "python3"
  },
  "language_info": {
   "codemirror_mode": {
    "name": "ipython",
    "version": 3
   },
   "file_extension": ".py",
   "mimetype": "text/x-python",
   "name": "python",
   "nbconvert_exporter": "python",
   "pygments_lexer": "ipython3",
   "version": "3.9.13"
  }
 },
 "nbformat": 4,
 "nbformat_minor": 5
}
