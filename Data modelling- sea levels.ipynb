{
 "cells": [
  {
   "cell_type": "code",
   "execution_count": 30,
   "id": "c44ec1c7",
   "metadata": {},
   "outputs": [
    {
     "name": "stdout",
     "output_type": "stream",
     "text": [
      "<class 'pandas.core.frame.DataFrame'>\n",
      "RangeIndex: 1048 entries, 0 to 1047\n",
      "Data columns (total 9 columns):\n",
      " #   Column                       Non-Null Count  Dtype  \n",
      "---  ------                       --------------  -----  \n",
      " 0   Year                         1048 non-null   int64  \n",
      " 1   TotalWeightedObservations    1048 non-null   float64\n",
      " 2   GMSL_noGIA                   1048 non-null   float64\n",
      " 3   StdDevGMSL_noGIA             1048 non-null   float64\n",
      " 4   SmoothedGSML_noGIA           1048 non-null   float64\n",
      " 5   GMSL_GIA                     1048 non-null   float64\n",
      " 6   StdDevGMSL_GIA               1048 non-null   float64\n",
      " 7   SmoothedGSML_GIA             1048 non-null   float64\n",
      " 8   SmoothedGSML_GIA_sigremoved  1048 non-null   float64\n",
      "dtypes: float64(8), int64(1)\n",
      "memory usage: 73.8 KB\n",
      "None\n"
     ]
    }
   ],
   "source": [
    "import pandas as pd\n",
    "import numpy as np\n",
    "import matplotlib.pyplot as plt\n",
    "\n",
    "df = pd.read_csv('sealevel.csv',  encoding = \"ISO-8859-1\")\n",
    "\n",
    "print (df.info())"
   ]
  },
  {
   "cell_type": "code",
   "execution_count": 3,
   "id": "3d5db749",
   "metadata": {
    "scrolled": true
   },
   "outputs": [
    {
     "name": "stdout",
     "output_type": "stream",
     "text": [
      "   Year  TotalWeightedObservations  GMSL_noGIA  StdDevGMSL_noGIA  \\\n",
      "0  1993                  327401.31      -38.59             89.86   \n",
      "1  1993                  324498.41      -41.97             90.86   \n",
      "2  1993                  333018.19      -41.93             87.27   \n",
      "3  1993                  297483.19      -42.67             90.75   \n",
      "4  1993                  321635.81      -37.86             90.26   \n",
      "\n",
      "   SmoothedGSML_noGIA  GMSL_GIA  StdDevGMSL_GIA  SmoothedGSML_GIA  \\\n",
      "0              -38.76    -38.59           89.86            -38.75   \n",
      "1              -39.78    -41.97           90.86            -39.77   \n",
      "2              -39.62    -41.91           87.27            -39.61   \n",
      "3              -39.67    -42.65           90.74            -39.64   \n",
      "4              -38.75    -37.83           90.25            -38.72   \n",
      "\n",
      "   SmoothedGSML_GIA_sigremoved  \n",
      "0                       -38.57  \n",
      "1                       -39.11  \n",
      "2                       -38.58  \n",
      "3                       -38.34  \n",
      "4                       -37.21  \n"
     ]
    }
   ],
   "source": [
    "print (df.head())"
   ]
  },
  {
   "cell_type": "markdown",
   "id": "272d264e",
   "metadata": {},
   "source": [
    "Global Mean Sea Level (GMSL)"
   ]
  },
  {
   "cell_type": "code",
   "execution_count": 31,
   "id": "0bc35f8e",
   "metadata": {
    "scrolled": true
   },
   "outputs": [
    {
     "name": "stdout",
     "output_type": "stream",
     "text": [
      "      Year  GMSL_GIA\n",
      "0     1993    -38.59\n",
      "1     1993    -41.97\n",
      "2     1993    -41.91\n",
      "3     1993    -42.65\n",
      "4     1993    -37.83\n",
      "...    ...       ...\n",
      "1043  2021     56.17\n",
      "1044  2021     57.42\n",
      "1045  2021     56.57\n",
      "1046  2021     54.41\n",
      "1047  2021     57.01\n",
      "\n",
      "[1048 rows x 2 columns]\n"
     ]
    }
   ],
   "source": [
    "sea_level = df[['Year', 'GMSL_GIA']]\n",
    "print(sea_level)"
   ]
  },
  {
   "cell_type": "code",
   "execution_count": 32,
   "id": "832302ea",
   "metadata": {
    "scrolled": true
   },
   "outputs": [
    {
     "name": "stdout",
     "output_type": "stream",
     "text": [
      "       GMSL_GIA\n",
      "Year           \n",
      "1993 -34.483784\n",
      "1994 -30.584324\n",
      "1995 -28.019459\n",
      "1996 -25.744167\n",
      "1997 -21.591081\n",
      "1998 -23.726486\n",
      "1999 -20.228649\n",
      "2000 -16.597568\n",
      "2001 -11.145405\n",
      "2002  -7.059722\n",
      "2003  -3.763514\n",
      "2004  -1.623514\n",
      "2005   3.015405\n",
      "2006   4.372500\n",
      "2007   5.022432\n",
      "2008   7.328889\n",
      "2009  12.431351\n",
      "2010  13.653514\n",
      "2011  12.935946\n",
      "2012  24.002973\n",
      "2013  26.298649\n",
      "2014  30.078333\n",
      "2015  40.896757\n",
      "2016  43.278378\n",
      "2017  44.345135\n",
      "2018  48.610541\n",
      "2019  55.745676\n",
      "2020  56.419722\n",
      "2021  56.901111\n"
     ]
    }
   ],
   "source": [
    "sea_level = sea_level.groupby('Year').mean()\n",
    "print(sea_level)"
   ]
  },
  {
   "cell_type": "code",
   "execution_count": 19,
   "id": "e5e5da86",
   "metadata": {
    "scrolled": false
   },
   "outputs": [],
   "source": [
    "#row_Sum  = sea_level.groupby('Year').apply(lambda x: x[x['Year'] == 1993].sum(axis=0,numeric_only=True))\n",
    "#row_Sum1  = sea_level.groupby('Year').apply(lambda x: x[x['Year'] == 1994].sum(axis=0,numeric_only=True))\n",
    "#row_Sum2  = sea_level.groupby('Year').apply(lambda x: x[x['Year'] == 1995].sum(axis=0,numeric_only=True))\n",
    "#row_Sum3  = sea_level.groupby('Year').apply(lambda x: x[x['Year'] == 1996].sum(axis=0,numeric_only=True))\n",
    "#row_Sum4  = sea_level.groupby('Year').apply(lambda x: x[x['Year'] == 1997].sum(axis=0,numeric_only=True))\n",
    "#row_Sum5  = sea_level.groupby('Year').apply(lambda x: x[x['Year'] == 1998].sum(axis=0,numeric_only=True))\n",
    "#row_Sum6  = sea_level.groupby('Year').apply(lambda x: x[x['Year'] == 1999].sum(axis=0,numeric_only=True))\n",
    "#row_Sum7  = sea_level.groupby('Year').apply(lambda x: x[x['Year'] == 2000].sum(axis=0,numeric_only=True))\n",
    "#row_Sum8  = sea_level.groupby('Year').apply(lambda x: x[x['Year'] == 2001].sum(axis=0,numeric_only=True))\n",
    "#row_Sum9  = sea_level.groupby('Year').apply(lambda x: x[x['Year'] == 2002].sum(axis=0,numeric_only=True))\n",
    "#row_Sum10  = sea_level.groupby('Year').apply(lambda x: x[x['Year'] == 2003].sum(axis=0,numeric_only=True))\n",
    "#row_Sum11 = sea_level.groupby('Year').apply(lambda x: x[x['Year'] == 2004].sum(axis=0,numeric_only=True))\n",
    "#row_Sum12  = sea_level.groupby('Year').apply(lambda x: x[x['Year'] == 2005].sum(axis=0,numeric_only=True))\n",
    "#row_Sum13  = sea_level.groupby('Year').apply(lambda x: x[x['Year'] == 2006].sum(axis=0,numeric_only=True))\n",
    "#row_Sum14  = sea_level.groupby('Year').apply(lambda x: x[x['Year'] == 2007].sum(axis=0,numeric_only=True))\n",
    "#row_Sum15  = sea_level.groupby('Year').apply(lambda x: x[x['Year'] == 2008].sum(axis=0,numeric_only=True))\n",
    "#row_Sum16  = sea_level.groupby('Year').apply(lambda x: x[x['Year'] == 2009].sum(axis=0,numeric_only=True))\n",
    "#row_Sum17  = sea_level.groupby('Year').apply(lambda x: x[x['Year'] == 2010].sum(axis=0,numeric_only=True))\n",
    "#row_Sum18  = sea_level.groupby('Year').apply(lambda x: x[x['Year'] == 2011].sum(axis=0,numeric_only=True))\n",
    "#row_Sum19  = sea_level.groupby('Year').apply(lambda x: x[x['Year'] == 2012].sum(axis=0,numeric_only=True))\n",
    "#row_Sum20  = sea_level.groupby('Year').apply(lambda x: x[x['Year'] == 2013].sum(axis=0,numeric_only=True))\n",
    "#row_Sum21  = sea_level.groupby('Year').apply(lambda x: x[x['Year'] == 2014].sum(axis=0,numeric_only=True))\n",
    "#row_Sum22  = sea_level.groupby('Year').apply(lambda x: x[x['Year'] == 2015].sum(axis=0,numeric_only=True))\n",
    "#row_Sum23  = sea_level.groupby('Year').apply(lambda x: x[x['Year'] == 2016].sum(axis=0,numeric_only=True))\n",
    "#row_Sum24  = sea_level.groupby('Year').apply(lambda x: x[x['Year'] == 2017].sum(axis=0,numeric_only=True))\n",
    "#row_Sum25  = sea_level.groupby('Year').apply(lambda x: x[x['Year'] == 2018].sum(axis=0,numeric_only=True))\n",
    "#row_Sum26  = sea_level.groupby('Year').apply(lambda x: x[x['Year'] == 2019].sum(axis=0,numeric_only=True))\n",
    "#print(row_Sum)\n",
    "#3print(row_Sum26)"
   ]
  },
  {
   "cell_type": "code",
   "execution_count": 33,
   "id": "707d03ad",
   "metadata": {
    "scrolled": true
   },
   "outputs": [
    {
     "name": "stdout",
     "output_type": "stream",
     "text": [
      "       GMSL_GIA\n",
      "Year           \n",
      "1993 -34.483784\n",
      "1994 -30.584324\n",
      "1995 -28.019459\n",
      "1996 -25.744167\n",
      "1997 -21.591081\n",
      "1998 -23.726486\n",
      "1999 -20.228649\n",
      "2000 -16.597568\n",
      "2001 -11.145405\n",
      "2002  -7.059722\n",
      "2003  -3.763514\n",
      "2004  -1.623514\n",
      "2005   3.015405\n",
      "2006   4.372500\n",
      "2007   5.022432\n",
      "2008   7.328889\n",
      "2009  12.431351\n",
      "2010  13.653514\n",
      "2011  12.935946\n",
      "2012  24.002973\n",
      "2013  26.298649\n",
      "2014  30.078333\n",
      "2015  40.896757\n",
      "2016  43.278378\n",
      "2017  44.345135\n",
      "2018  48.610541\n",
      "2019  55.745676\n",
      "2020  56.419722\n",
      "2021  56.901111\n"
     ]
    }
   ],
   "source": [
    "print(sea_level)"
   ]
  },
  {
   "cell_type": "markdown",
   "id": "ca7cd514",
   "metadata": {},
   "source": [
    "Sea_level EDA"
   ]
  },
  {
   "cell_type": "code",
   "execution_count": 25,
   "id": "0abf1713",
   "metadata": {},
   "outputs": [],
   "source": [
    "#sea_level.descibe()"
   ]
  },
  {
   "cell_type": "code",
   "execution_count": 34,
   "id": "c8d4c07e",
   "metadata": {
    "scrolled": true
   },
   "outputs": [
    {
     "data": {
      "image/png": "[encoded data removed]",
      "text/plain": [
       "<Figure size 640x480 with 1 Axes>"
      ]
     },
     "metadata": {},
     "output_type": "display_data"
    }
   ],
   "source": [
    "sea_level.GMSL_GIA.plot(kind='box', vert=False)\n",
    "plt.title('Global Mean Sea Level')\n",
    "plt.grid()\n",
    "plt.show()"
   ]
  },
  {
   "cell_type": "code",
   "execution_count": 39,
   "id": "4d74b864",
   "metadata": {
    "scrolled": true
   },
   "outputs": [
    {
     "data": {
      "text/plain": [
       "[<matplotlib.lines.Line2D at 0x2c1a0b154c0>]"
      ]
     },
     "execution_count": 39,
     "metadata": {},
     "output_type": "execute_result"
    },
    {
     "data": {
      "image/png": "[encoded data removed]",
      "text/plain": [
       "<Figure size 640x480 with 1 Axes>"
      ]
     },
     "metadata": {},
     "output_type": "display_data"
    }
   ],
   "source": [
    "plt.plot(sea_level.GMSL_GIA)"
   ]
  },
  {
   "cell_type": "code",
   "execution_count": null,
   "id": "fa3593ea",
   "metadata": {},
   "outputs": [],
   "source": []
  }
 ],
 "metadata": {
  "kernelspec": {
   "display_name": "Python 3 (ipykernel)",
   "language": "python",
   "name": "python3"
  },
  "language_info": {
   "codemirror_mode": {
    "name": "ipython",
    "version": 3
   },
   "file_extension": ".py",
   "mimetype": "text/x-python",
   "name": "python",
   "nbconvert_exporter": "python",
   "pygments_lexer": "ipython3",
   "version": "3.9.13"
  }
 },
 "nbformat": 4,
 "nbformat_minor": 5
}
