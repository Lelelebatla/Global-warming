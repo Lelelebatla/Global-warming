{
 "cells": [
  {
   "cell_type": "code",
   "execution_count": 1,
   "id": "20191093",
   "metadata": {
    "scrolled": true
   },
   "outputs": [
    {
     "name": "stdout",
     "output_type": "stream",
     "text": [
      "<class 'pandas.core.frame.DataFrame'>\n",
      "RangeIndex: 9656 entries, 0 to 9655\n",
      "Columns: 132 entries, Area Code to Y2022F\n",
      "dtypes: float64(62), int64(3), object(67)\n",
      "memory usage: 9.7+ MB\n",
      "None\n",
      "Temperature change    4828\n",
      "Standard Deviation    4828\n",
      "Name: Element, dtype: int64\n"
     ]
    }
   ],
   "source": [
    "import pandas as pd\n",
    "import numpy as np\n",
    "import matplotlib.pyplot as plt\n",
    "\n",
    "df = pd.read_csv('Temperature.csv',  encoding = \"ISO-8859-1\")\n",
    "\n",
    "print (df.info())\n",
    "print (df['Element'].value_counts())"
   ]
  },
  {
   "cell_type": "code",
   "execution_count": 2,
   "id": "eb62b31e",
   "metadata": {
    "scrolled": true
   },
   "outputs": [
    {
     "name": "stdout",
     "output_type": "stream",
     "text": [
      "         Area Code  Months Code  Element Code        Y1961        Y1962  \\\n",
      "count  9656.000000  9656.000000    9656.00000  8258.000000  8288.000000   \n",
      "mean    821.809859  7009.882353    6674.50000     0.402509     0.314621   \n",
      "std    1781.081871     6.038255     596.53089     0.702601     0.715055   \n",
      "min       1.000000  7001.000000    6078.00000    -4.074000    -5.379000   \n",
      "25%      78.000000  7005.000000    6078.00000     0.060000    -0.033250   \n",
      "50%     153.500000  7009.000000    6674.50000     0.366000     0.330000   \n",
      "75%     226.250000  7016.000000    7271.00000     0.676750     0.622000   \n",
      "max    5873.000000  7020.000000    7271.00000     5.772000     4.374000   \n",
      "\n",
      "             Y1963        Y1964        Y1965        Y1966        Y1967  ...  \\\n",
      "count  8267.000000  8235.000000  8236.000000  8352.000000  8328.000000  ...   \n",
      "mean      0.321601     0.271656     0.218669     0.376625     0.264377  ...   \n",
      "std       0.852674     0.748810     0.740794     0.738545     0.723345  ...   \n",
      "min      -8.484000    -7.242000    -4.729000    -8.151000    -6.528000  ...   \n",
      "25%       0.045000    -0.098000    -0.212000     0.061750    -0.161250  ...   \n",
      "50%       0.356000     0.328000     0.297000     0.360000     0.306000  ...   \n",
      "75%       0.649000     0.610000     0.583250     0.656000     0.600000  ...   \n",
      "max       4.766000     5.267000     5.146000     5.772000     4.759000  ...   \n",
      "\n",
      "             Y2013        Y2014        Y2015        Y2016        Y2017  \\\n",
      "count  8441.000000  8370.000000  8401.000000  8325.000000  8322.000000   \n",
      "mean      0.821878     0.902620     1.002415     1.069053     0.993800   \n",
      "std       0.710705     0.813721     0.836777     0.873420     0.805212   \n",
      "min      -3.761000    -5.316000    -4.028000    -3.310000    -3.513000   \n",
      "25%       0.404000     0.414250     0.432000     0.454000     0.439000   \n",
      "50%       0.712000     0.734000     0.841000     0.933000     0.871000   \n",
      "75%       1.118000     1.172000     1.377000     1.479000     1.344000   \n",
      "max       6.673000    11.757000     7.583000    10.161000     7.379000   \n",
      "\n",
      "            Y2018        Y2019        Y2020        Y2021        Y2022  \n",
      "count  8317.00000  8325.000000  8288.000000  8283.000000  8311.000000  \n",
      "mean      1.00362     1.083066     1.118325     1.021802     1.037947  \n",
      "std       0.86877     0.840778     0.946886     0.808671     0.914434  \n",
      "min      -2.20000    -2.633000    -3.938000    -3.783000    -3.485000  \n",
      "25%       0.43400     0.453000     0.453750     0.441000     0.433000  \n",
      "50%       0.81000     0.935000     0.949500     0.875000     0.812000  \n",
      "75%       1.33100     1.489000     1.506000     1.411000     1.383000  \n",
      "max       9.11300     7.092000     8.672000     7.655000     7.254000  \n",
      "\n",
      "[8 rows x 65 columns]\n"
     ]
    }
   ],
   "source": [
    "print (df.describe())"
   ]
  },
  {
   "cell_type": "code",
   "execution_count": 3,
   "id": "3d12aa20",
   "metadata": {
    "scrolled": true
   },
   "outputs": [
    {
     "name": "stdout",
     "output_type": "stream",
     "text": [
      "   Area Code Area Code (M49)         Area  Months Code    Months  \\\n",
      "0          2            '004  Afghanistan         7001   January   \n",
      "1          2            '004  Afghanistan         7001   January   \n",
      "2          2            '004  Afghanistan         7002  February   \n",
      "3          2            '004  Afghanistan         7002  February   \n",
      "4          2            '004  Afghanistan         7003     March   \n",
      "\n",
      "   Element Code             Element Unit  Y1961 Y1961F  ...  Y2018 Y2018F  \\\n",
      "0          7271  Temperature change   °C  0.756      E  ...  2.051      E   \n",
      "1          6078  Standard Deviation   °C  1.964      E  ...  1.964      E   \n",
      "2          7271  Temperature change   °C -1.766      E  ...  2.714      E   \n",
      "3          6078  Standard Deviation   °C  2.602      E  ...  2.602      E   \n",
      "4          7271  Temperature change   °C  0.458      E  ...  4.533      E   \n",
      "\n",
      "   Y2019 Y2019F  Y2020 Y2020F  Y2021 Y2021F  Y2022 Y2022F  \n",
      "0  2.858      E -0.681      E  0.559      E  2.284      E  \n",
      "1  1.964      E  1.964      E  1.964      E  1.964      E  \n",
      "2  0.067      E  2.500      E  4.086      E  2.371      E  \n",
      "3  2.602      E  2.602      E  2.602      E  2.602      E  \n",
      "4  0.293      E  0.555      E  2.480      E  3.598      E  \n",
      "\n",
      "[5 rows x 132 columns]\n"
     ]
    }
   ],
   "source": [
    "print (df.head())"
   ]
  },
  {
   "cell_type": "code",
   "execution_count": 5,
   "id": "0681792d",
   "metadata": {
    "scrolled": false
   },
   "outputs": [],
   "source": [
    "#print (temperature['Element'].value_counts(normalize=True))\n",
    "#print (temperature['Element'].value_counts())"
   ]
  },
  {
   "cell_type": "code",
   "execution_count": 6,
   "id": "77e9b05b",
   "metadata": {
    "scrolled": true
   },
   "outputs": [
    {
     "data": {
      "text/plain": [
       "array(['Afghanistan', 'Albania', 'Algeria', 'American Samoa', 'Andorra',\n",
       "       'Angola', 'Anguilla', 'Antarctica', 'Antigua and Barbuda',\n",
       "       'Argentina', 'Armenia', 'Aruba', 'Australia', 'Austria',\n",
       "       'Azerbaijan', 'Bahamas', 'Bahrain', 'Bangladesh', 'Barbados',\n",
       "       'Belarus', 'Belgium', 'Belgium-Luxembourg', 'Belize', 'Benin',\n",
       "       'Bhutan', 'Bolivia (Plurinational State of)',\n",
       "       'Bosnia and Herzegovina', 'Botswana', 'Brazil',\n",
       "       'British Virgin Islands', 'Brunei Darussalam', 'Bulgaria',\n",
       "       'Burkina Faso', 'Burundi', 'Cabo Verde', 'Cambodia', 'Cameroon',\n",
       "       'Canada', 'Cayman Islands', 'Central African Republic', 'Chad',\n",
       "       'Channel Islands', 'Chile', 'China', 'China, Hong Kong SAR',\n",
       "       'China, Macao SAR', 'China, mainland', 'China, Taiwan Province of',\n",
       "       'Christmas Island', 'Cocos (Keeling) Islands', 'Colombia',\n",
       "       'Comoros', 'Congo', 'Cook Islands', 'Costa Rica', \"Côte d'Ivoire\",\n",
       "       'Croatia', 'Cuba', 'Cyprus', 'Czechia', 'Czechoslovakia',\n",
       "       \"Democratic People's Republic of Korea\",\n",
       "       'Democratic Republic of the Congo', 'Denmark', 'Djibouti',\n",
       "       'Dominica', 'Dominican Republic', 'Ecuador', 'Egypt',\n",
       "       'El Salvador', 'Equatorial Guinea', 'Eritrea', 'Estonia',\n",
       "       'Eswatini', 'Ethiopia', 'Ethiopia PDR',\n",
       "       'Falkland Islands (Malvinas)', 'Faroe Islands', 'Fiji', 'Finland',\n",
       "       'France', 'French Guiana', 'French Polynesia',\n",
       "       'French Southern Territories', 'Gabon', 'Gambia', 'Georgia',\n",
       "       'Germany', 'Ghana', 'Gibraltar', 'Greece', 'Greenland', 'Grenada',\n",
       "       'Guadeloupe', 'Guatemala', 'Guinea', 'Guinea-Bissau', 'Guyana',\n",
       "       'Haiti', 'Holy See', 'Honduras', 'Hungary', 'Iceland', 'India',\n",
       "       'Indonesia', 'Iran (Islamic Republic of)', 'Iraq', 'Ireland',\n",
       "       'Isle of Man', 'Israel', 'Italy', 'Jamaica', 'Japan', 'Jordan',\n",
       "       'Kazakhstan', 'Kenya', 'Kiribati', 'Kuwait', 'Kyrgyzstan',\n",
       "       \"Lao People's Democratic Republic\", 'Latvia', 'Lebanon', 'Lesotho',\n",
       "       'Liberia', 'Libya', 'Liechtenstein', 'Lithuania', 'Luxembourg',\n",
       "       'Madagascar', 'Malawi', 'Malaysia', 'Maldives', 'Mali', 'Malta',\n",
       "       'Marshall Islands', 'Martinique', 'Mauritania', 'Mauritius',\n",
       "       'Mayotte', 'Mexico', 'Micronesia (Federated States of)',\n",
       "       'Midway Island', 'Monaco', 'Mongolia', 'Montenegro', 'Montserrat',\n",
       "       'Morocco', 'Mozambique', 'Myanmar', 'Namibia', 'Nauru', 'Nepal',\n",
       "       'Netherlands', 'Netherlands Antilles (former)', 'New Caledonia',\n",
       "       'New Zealand', 'Nicaragua', 'Niger', 'Nigeria', 'Niue',\n",
       "       'Norfolk Island', 'North Macedonia', 'Norway', 'Oman',\n",
       "       'Pacific Islands Trust Territory', 'Pakistan', 'Palau',\n",
       "       'Palestine', 'Panama', 'Papua New Guinea', 'Paraguay', 'Peru',\n",
       "       'Philippines', 'Pitcairn', 'Poland', 'Portugal', 'Puerto Rico',\n",
       "       'Qatar', 'Republic of Korea', 'Republic of Moldova', 'Réunion',\n",
       "       'Romania', 'Russian Federation', 'Rwanda',\n",
       "       'Saint Helena, Ascension and Tristan da Cunha',\n",
       "       'Saint Kitts and Nevis', 'Saint Lucia',\n",
       "       'Saint Pierre and Miquelon', 'Saint Vincent and the Grenadines',\n",
       "       'Samoa', 'San Marino', 'Sao Tome and Principe', 'Saudi Arabia',\n",
       "       'Senegal', 'Serbia', 'Serbia and Montenegro', 'Seychelles',\n",
       "       'Sierra Leone', 'Singapore', 'Slovakia', 'Slovenia',\n",
       "       'Solomon Islands', 'Somalia', 'South Africa',\n",
       "       'South Georgia and the South Sandwich Islands', 'South Sudan',\n",
       "       'Spain', 'Sri Lanka', 'Sudan', 'Sudan (former)', 'Suriname',\n",
       "       'Svalbard and Jan Mayen Islands', 'Sweden', 'Switzerland',\n",
       "       'Syrian Arab Republic', 'Tajikistan', 'Thailand', 'Timor-Leste',\n",
       "       'Togo', 'Tokelau', 'Tonga', 'Trinidad and Tobago', 'Tunisia',\n",
       "       'Türkiye', 'Turkmenistan', 'Turks and Caicos Islands', 'Tuvalu',\n",
       "       'Uganda', 'Ukraine', 'United Arab Emirates',\n",
       "       'United Kingdom of Great Britain and Northern Ireland',\n",
       "       'United Republic of Tanzania', 'United States of America',\n",
       "       'United States Virgin Islands', 'Uruguay', 'USSR', 'Uzbekistan',\n",
       "       'Vanuatu', 'Venezuela (Bolivarian Republic of)', 'Viet Nam',\n",
       "       'Wake Island', 'Wallis and Futuna Islands', 'Western Sahara',\n",
       "       'Yemen', 'Yugoslav SFR', 'Zambia', 'Zimbabwe', 'World', 'Africa',\n",
       "       'Eastern Africa', 'Middle Africa', 'Northern Africa',\n",
       "       'Southern Africa', 'Western Africa', 'Americas',\n",
       "       'Northern America', 'Central America', 'Caribbean',\n",
       "       'South America', 'Asia', 'Central Asia', 'Eastern Asia',\n",
       "       'Southern Asia', 'South-eastern Asia', 'Western Asia', 'Europe',\n",
       "       'Eastern Europe', 'Northern Europe', 'Southern Europe',\n",
       "       'Western Europe', 'Oceania', 'Australia and New Zealand',\n",
       "       'Melanesia', 'Micronesia', 'Polynesia', 'European Union (27)',\n",
       "       'Least Developed Countries', 'Land Locked Developing Countries',\n",
       "       'Small Island Developing States',\n",
       "       'Low Income Food Deficit Countries',\n",
       "       'Net Food Importing Developing Countries', 'Annex I countries',\n",
       "       'Non-Annex I countries', 'OECD'], dtype=object)"
      ]
     },
     "execution_count": 6,
     "metadata": {},
     "output_type": "execute_result"
    }
   ],
   "source": [
    "df['Area'].unique()"
   ]
  },
  {
   "cell_type": "code",
   "execution_count": 7,
   "id": "1b8dbe6f",
   "metadata": {},
   "outputs": [
    {
     "name": "stdout",
     "output_type": "stream",
     "text": [
      "          Area    Months             Element  Y1993  Y1994  Y1995  Y1996  \\\n",
      "0  Afghanistan   January  Temperature change -0.734  1.131  1.287 -0.720   \n",
      "1  Afghanistan   January  Standard Deviation  1.964  1.964  1.964  1.964   \n",
      "2  Afghanistan  February  Temperature change  1.507 -1.358 -0.161  0.865   \n",
      "3  Afghanistan  February  Standard Deviation  2.602  2.602  2.602  2.602   \n",
      "4  Afghanistan     March  Temperature change -1.427  1.291 -1.467 -0.367   \n",
      "\n",
      "   Y1997  Y1998  Y1999  ...  Y2010  Y2011  Y2012  Y2013  Y2014  Y2015  Y2016  \\\n",
      "0  1.402  0.953  0.871  ...  3.619  1.233 -0.504  1.331  1.698  1.908  3.444   \n",
      "1  1.964  1.964  1.964  ...  1.964  1.964  1.964  1.964  1.964  1.964  1.964   \n",
      "2  0.025 -0.530  3.237  ...  1.241  0.211 -3.068  1.558 -3.108  2.585  2.403   \n",
      "3  2.602  2.602  2.602  ...  2.602  2.602  2.602  2.602  2.602  2.602  2.602   \n",
      "4  0.011 -0.609 -0.229  ...  3.464  0.822 -0.384  2.324 -0.051 -0.553  2.388   \n",
      "\n",
      "   Y2017  Y2018  Y2019  \n",
      "0  1.256  2.051  2.858  \n",
      "1  1.964  1.964  1.964  \n",
      "2 -0.224  2.714  0.067  \n",
      "3  2.602  2.602  2.602  \n",
      "4  0.877  4.533  0.293  \n",
      "\n",
      "[5 rows x 30 columns]\n"
     ]
    }
   ],
   "source": [
    " temperature = df[['Area', 'Months', 'Element', 'Y1993', 'Y1994', 'Y1995', 'Y1996', 'Y1997', 'Y1998', 'Y1999', 'Y2000', 'Y2001', 'Y2002',\n",
    "        'Y2003', 'Y2004', 'Y2005', 'Y2006', 'Y2007', 'Y2008', 'Y2009', 'Y2010', 'Y2011', 'Y2012', 'Y2013', 'Y2014', 'Y2015', \n",
    "        'Y2016','Y2017', 'Y2018', 'Y2019']]\n",
    "\n",
    "print(temperature.head())\n"
   ]
  },
  {
   "cell_type": "code",
   "execution_count": 8,
   "id": "31f95652",
   "metadata": {
    "scrolled": true
   },
   "outputs": [
    {
     "name": "stdout",
     "output_type": "stream",
     "text": [
      "       Area    Months             Element  Y1993  Y1994  Y1995  Y1996  Y1997  \\\n",
      "8398  World   January  Temperature change  0.723  0.521  1.222  0.267  0.596   \n",
      "8399  World   January  Standard Deviation  0.417  0.417  0.417  0.417  0.417   \n",
      "8400  World  February  Temperature change  0.717 -0.265  1.690  0.776  0.777   \n",
      "8401  World  February  Standard Deviation  0.579  0.579  0.579  0.579  0.579   \n",
      "8402  World     March  Temperature change  0.800  0.710  0.846  0.289  0.817   \n",
      "\n",
      "      Y1998  Y1999  ...  Y2010  Y2011  Y2012  Y2013  Y2014  Y2015  Y2016  \\\n",
      "8398  0.782  1.010  ...  1.088  0.707  0.649  1.127  1.184  1.472  1.744   \n",
      "8399  0.417  0.417  ...  0.417  0.417  0.417  0.417  0.417  0.417  0.417   \n",
      "8400  1.745  1.728  ...  1.286  0.552  0.520  1.326  0.553  1.673  2.592   \n",
      "8401  0.579  0.579  ...  0.579  0.579  0.579  0.579  0.579  0.579  0.579   \n",
      "8402  0.968  0.372  ...  1.570  1.014  0.890  1.122  1.433  1.731  2.582   \n",
      "\n",
      "      Y2017  Y2018  Y2019  \n",
      "8398  1.750  1.301  1.698  \n",
      "8399  0.417  0.417  0.417  \n",
      "8400  1.910  1.356  1.322  \n",
      "8401  0.579  0.579  0.579  \n",
      "8402  1.981  1.642  2.086  \n",
      "\n",
      "[5 rows x 30 columns]\n"
     ]
    }
   ],
   "source": [
    "temperature = temperature[temperature['Area'] == \"World\"]\n",
    "print(temperature.head())"
   ]
  },
  {
   "cell_type": "code",
   "execution_count": 9,
   "id": "cbacd280",
   "metadata": {
    "scrolled": true
   },
   "outputs": [
    {
     "name": "stdout",
     "output_type": "stream",
     "text": [
      "       Area    Months             Element  Y1993  Y1994  Y1995  Y1996  Y1997  \\\n",
      "8398  World   January  Temperature change  0.723  0.521  1.222  0.267  0.596   \n",
      "8400  World  February  Temperature change  0.717 -0.265  1.690  0.776  0.777   \n",
      "8402  World     March  Temperature change  0.800  0.710  0.846  0.289  0.817   \n",
      "8404  World     April  Temperature change  0.391  0.628  0.715  0.089  0.619   \n",
      "8406  World       May  Temperature change  0.417  0.699  0.573  0.597  0.448   \n",
      "\n",
      "      Y1998  Y1999  ...  Y2010  Y2011  Y2012  Y2013  Y2014  Y2015  Y2016  \\\n",
      "8398  0.782  1.010  ...  1.088  0.707  0.649  1.127  1.184  1.472  1.744   \n",
      "8400  1.745  1.728  ...  1.286  0.552  0.520  1.326  0.553  1.673  2.592   \n",
      "8402  0.968  0.372  ...  1.570  1.014  0.890  1.122  1.433  1.731  2.582   \n",
      "8404  1.326  0.806  ...  1.542  1.241  1.538  0.883  1.453  1.183  2.046   \n",
      "8406  1.011  0.619  ...  1.259  0.852  1.397  1.187  1.216  1.372  1.387   \n",
      "\n",
      "      Y2017  Y2018  Y2019  \n",
      "8398  1.750  1.301  1.698  \n",
      "8400  1.910  1.356  1.322  \n",
      "8402  1.981  1.642  2.086  \n",
      "8404  1.460  1.346  1.667  \n",
      "8406  1.278  1.299  1.257  \n",
      "\n",
      "[5 rows x 30 columns]\n"
     ]
    }
   ],
   "source": [
    "temperature = temperature[temperature['Element'] == \"Temperature change\"]\n",
    "print(temperature.head())"
   ]
  },
  {
   "cell_type": "code",
   "execution_count": 10,
   "id": "83b8f8f3",
   "metadata": {
    "scrolled": true
   },
   "outputs": [
    {
     "name": "stdout",
     "output_type": "stream",
     "text": [
      "       Area               Months             Element  Y1993  Y1994  Y1995  \\\n",
      "8430  World  Meteorological year  Temperature change  0.348  0.507  0.835   \n",
      "\n",
      "      Y1996  Y1997  Y1998  Y1999  ...  Y2010  Y2011  Y2012  Y2013  Y2014  \\\n",
      "8430  0.355  0.656  0.993  0.783  ...  1.219  0.921  1.074  1.016  1.053   \n",
      "\n",
      "      Y2015  Y2016  Y2017  Y2018  Y2019  \n",
      "8430  1.412   1.66  1.429   1.29  1.444  \n",
      "\n",
      "[1 rows x 30 columns]\n",
      "Meteorological year    1\n",
      "Name: Months, dtype: int64\n"
     ]
    }
   ],
   "source": [
    "temperature = temperature[temperature['Months'] == \"Meteorological year\"]\n",
    "print(temperature.head())\n",
    "print (temperature['Months'].value_counts())"
   ]
  },
  {
   "cell_type": "code",
   "execution_count": 41,
   "id": "ac7133aa",
   "metadata": {
    "scrolled": true
   },
   "outputs": [],
   "source": [
    "#temperature = temperature.reset_index\n",
    "#temperature"
   ]
  },
  {
   "cell_type": "code",
   "execution_count": 42,
   "id": "3b89abe6",
   "metadata": {},
   "outputs": [],
   "source": [
    "#column_name = [[\"year\", \"temperature_change\"]]\n",
    "#temperature.columns = column_name\n",
    "\n",
    "#temperature['year'] = temperature.iloc[0:, :]\n",
    "#temperature"
   ]
  },
  {
   "cell_type": "code",
   "execution_count": 40,
   "id": "1b0831e3",
   "metadata": {
    "scrolled": true
   },
   "outputs": [
    {
     "data": {
      "text/html": [
       "<div>\n",
       "<style scoped>\n",
       "    .dataframe tbody tr th:only-of-type {\n",
       "        vertical-align: middle;\n",
       "    }\n",
       "\n",
       "    .dataframe tbody tr th {\n",
       "        vertical-align: top;\n",
       "    }\n",
       "\n",
       "    .dataframe thead th {\n",
       "        text-align: right;\n",
       "    }\n",
       "</style>\n",
       "<table border=\"1\" class=\"dataframe\">\n",
       "  <thead>\n",
       "    <tr style=\"text-align: right;\">\n",
       "      <th></th>\n",
       "      <th>index</th>\n",
       "      <th>0</th>\n",
       "      <th>year</th>\n",
       "    </tr>\n",
       "  </thead>\n",
       "  <tbody>\n",
       "    <tr>\n",
       "      <th>0</th>\n",
       "      <td>Y1993</td>\n",
       "      <td>0.348</td>\n",
       "      <td>0.348</td>\n",
       "    </tr>\n",
       "    <tr>\n",
       "      <th>1</th>\n",
       "      <td>Y1994</td>\n",
       "      <td>0.507</td>\n",
       "      <td>0.507</td>\n",
       "    </tr>\n",
       "    <tr>\n",
       "      <th>2</th>\n",
       "      <td>Y1995</td>\n",
       "      <td>0.835</td>\n",
       "      <td>0.835</td>\n",
       "    </tr>\n",
       "    <tr>\n",
       "      <th>3</th>\n",
       "      <td>Y1996</td>\n",
       "      <td>0.355</td>\n",
       "      <td>0.355</td>\n",
       "    </tr>\n",
       "    <tr>\n",
       "      <th>4</th>\n",
       "      <td>Y1997</td>\n",
       "      <td>0.656</td>\n",
       "      <td>0.656</td>\n",
       "    </tr>\n",
       "    <tr>\n",
       "      <th>5</th>\n",
       "      <td>Y1998</td>\n",
       "      <td>0.993</td>\n",
       "      <td>0.993</td>\n",
       "    </tr>\n",
       "    <tr>\n",
       "      <th>6</th>\n",
       "      <td>Y1999</td>\n",
       "      <td>0.783</td>\n",
       "      <td>0.783</td>\n",
       "    </tr>\n",
       "    <tr>\n",
       "      <th>7</th>\n",
       "      <td>Y2000</td>\n",
       "      <td>0.728</td>\n",
       "      <td>0.728</td>\n",
       "    </tr>\n",
       "    <tr>\n",
       "      <th>8</th>\n",
       "      <td>Y2001</td>\n",
       "      <td>0.834</td>\n",
       "      <td>0.834</td>\n",
       "    </tr>\n",
       "    <tr>\n",
       "      <th>9</th>\n",
       "      <td>Y2002</td>\n",
       "      <td>1.021</td>\n",
       "      <td>1.021</td>\n",
       "    </tr>\n",
       "    <tr>\n",
       "      <th>10</th>\n",
       "      <td>Y2003</td>\n",
       "      <td>0.893</td>\n",
       "      <td>0.893</td>\n",
       "    </tr>\n",
       "    <tr>\n",
       "      <th>11</th>\n",
       "      <td>Y2004</td>\n",
       "      <td>0.913</td>\n",
       "      <td>0.913</td>\n",
       "    </tr>\n",
       "    <tr>\n",
       "      <th>12</th>\n",
       "      <td>Y2005</td>\n",
       "      <td>1.095</td>\n",
       "      <td>1.095</td>\n",
       "    </tr>\n",
       "    <tr>\n",
       "      <th>13</th>\n",
       "      <td>Y2006</td>\n",
       "      <td>0.998</td>\n",
       "      <td>0.998</td>\n",
       "    </tr>\n",
       "    <tr>\n",
       "      <th>14</th>\n",
       "      <td>Y2007</td>\n",
       "      <td>1.195</td>\n",
       "      <td>1.195</td>\n",
       "    </tr>\n",
       "    <tr>\n",
       "      <th>15</th>\n",
       "      <td>Y2008</td>\n",
       "      <td>0.935</td>\n",
       "      <td>0.935</td>\n",
       "    </tr>\n",
       "    <tr>\n",
       "      <th>16</th>\n",
       "      <td>Y2009</td>\n",
       "      <td>0.957</td>\n",
       "      <td>0.957</td>\n",
       "    </tr>\n",
       "    <tr>\n",
       "      <th>17</th>\n",
       "      <td>Y2010</td>\n",
       "      <td>1.219</td>\n",
       "      <td>1.219</td>\n",
       "    </tr>\n",
       "    <tr>\n",
       "      <th>18</th>\n",
       "      <td>Y2011</td>\n",
       "      <td>0.921</td>\n",
       "      <td>0.921</td>\n",
       "    </tr>\n",
       "    <tr>\n",
       "      <th>19</th>\n",
       "      <td>Y2012</td>\n",
       "      <td>1.074</td>\n",
       "      <td>1.074</td>\n",
       "    </tr>\n",
       "    <tr>\n",
       "      <th>20</th>\n",
       "      <td>Y2013</td>\n",
       "      <td>1.016</td>\n",
       "      <td>1.016</td>\n",
       "    </tr>\n",
       "    <tr>\n",
       "      <th>21</th>\n",
       "      <td>Y2014</td>\n",
       "      <td>1.053</td>\n",
       "      <td>1.053</td>\n",
       "    </tr>\n",
       "    <tr>\n",
       "      <th>22</th>\n",
       "      <td>Y2015</td>\n",
       "      <td>1.412</td>\n",
       "      <td>1.412</td>\n",
       "    </tr>\n",
       "    <tr>\n",
       "      <th>23</th>\n",
       "      <td>Y2016</td>\n",
       "      <td>1.66</td>\n",
       "      <td>1.66</td>\n",
       "    </tr>\n",
       "    <tr>\n",
       "      <th>24</th>\n",
       "      <td>Y2017</td>\n",
       "      <td>1.429</td>\n",
       "      <td>1.429</td>\n",
       "    </tr>\n",
       "    <tr>\n",
       "      <th>25</th>\n",
       "      <td>Y2018</td>\n",
       "      <td>1.29</td>\n",
       "      <td>1.29</td>\n",
       "    </tr>\n",
       "    <tr>\n",
       "      <th>26</th>\n",
       "      <td>Y2019</td>\n",
       "      <td>1.444</td>\n",
       "      <td>1.444</td>\n",
       "    </tr>\n",
       "  </tbody>\n",
       "</table>\n",
       "</div>"
      ],
      "text/plain": [
       "    index      0   year\n",
       "0   Y1993  0.348  0.348\n",
       "1   Y1994  0.507  0.507\n",
       "2   Y1995  0.835  0.835\n",
       "3   Y1996  0.355  0.355\n",
       "4   Y1997  0.656  0.656\n",
       "5   Y1998  0.993  0.993\n",
       "6   Y1999  0.783  0.783\n",
       "7   Y2000  0.728  0.728\n",
       "8   Y2001  0.834  0.834\n",
       "9   Y2002  1.021  1.021\n",
       "10  Y2003  0.893  0.893\n",
       "11  Y2004  0.913  0.913\n",
       "12  Y2005  1.095  1.095\n",
       "13  Y2006  0.998  0.998\n",
       "14  Y2007  1.195  1.195\n",
       "15  Y2008  0.935  0.935\n",
       "16  Y2009  0.957  0.957\n",
       "17  Y2010  1.219  1.219\n",
       "18  Y2011  0.921  0.921\n",
       "19  Y2012  1.074  1.074\n",
       "20  Y2013  1.016  1.016\n",
       "21  Y2014  1.053  1.053\n",
       "22  Y2015  1.412  1.412\n",
       "23  Y2016   1.66   1.66\n",
       "24  Y2017  1.429  1.429\n",
       "25  Y2018   1.29   1.29\n",
       "26  Y2019  1.444  1.444"
      ]
     },
     "execution_count": 40,
     "metadata": {},
     "output_type": "execute_result"
    }
   ],
   "source": [
    "temperature = temperature.transpose()\n",
    "temperature.reset_index()"
   ]
  },
  {
   "cell_type": "code",
   "execution_count": 39,
   "id": "1f675faf",
   "metadata": {
    "scrolled": true
   },
   "outputs": [
    {
     "name": "stdout",
     "output_type": "stream",
     "text": [
      "      Y1993  Y1994  Y1995  Y1996  Y1997  Y1998  Y1999  Y2000  Y2001  Y2002  \\\n",
      "0     0.348  0.507  0.835  0.355  0.656  0.993  0.783  0.728  0.834  1.021   \n",
      "year  0.348  0.507  0.835  0.355  0.656  0.993  0.783  0.728  0.834  1.021   \n",
      "\n",
      "      ...  Y2010  Y2011  Y2012  Y2013  Y2014  Y2015 Y2016  Y2017 Y2018  Y2019  \n",
      "0     ...  1.219  0.921  1.074  1.016  1.053  1.412  1.66  1.429  1.29  1.444  \n",
      "year  ...  1.219  0.921  1.074  1.016  1.053  1.412  1.66  1.429  1.29  1.444  \n",
      "\n",
      "[2 rows x 27 columns]\n"
     ]
    }
   ],
   "source": [
    " temperature = temperature[['Y1993', 'Y1994', 'Y1995', 'Y1996', 'Y1997', 'Y1998', 'Y1999', 'Y2000', 'Y2001', 'Y2002',\n",
    "        'Y2003', 'Y2004', 'Y2005', 'Y2006', 'Y2007', 'Y2008', 'Y2009', 'Y2010', 'Y2011', 'Y2012', 'Y2013', 'Y2014', 'Y2015', \n",
    "        'Y2016','Y2017', 'Y2018', 'Y2019']]\n",
    "print(temperature.head())"
   ]
  },
  {
   "cell_type": "code",
   "execution_count": null,
   "id": "38d96fe0",
   "metadata": {},
   "outputs": [],
   "source": [
    "data = {}"
   ]
  },
  {
   "cell_type": "code",
   "execution_count": 15,
   "id": "b2a5d5b7",
   "metadata": {
    "scrolled": true
   },
   "outputs": [
    {
     "name": "stdout",
     "output_type": "stream",
     "text": [
      "        8430\n",
      "Y1993  0.348\n",
      "Y1994  0.507\n",
      "Y1995  0.835\n",
      "Y1996  0.355\n",
      "Y1997  0.656\n",
      "Y1998  0.993\n",
      "Y1999  0.783\n",
      "Y2000  0.728\n",
      "Y2001  0.834\n",
      "Y2002  1.021\n",
      "Y2003  0.893\n",
      "Y2004  0.913\n",
      "Y2005  1.095\n",
      "Y2006  0.998\n",
      "Y2007  1.195\n",
      "Y2008  0.935\n",
      "Y2009  0.957\n",
      "Y2010  1.219\n",
      "Y2011  0.921\n",
      "Y2012  1.074\n",
      "Y2013  1.016\n",
      "Y2014  1.053\n",
      "Y2015  1.412\n",
      "Y2016   1.66\n",
      "Y2017  1.429\n",
      "Y2018   1.29\n",
      "Y2019  1.444\n"
     ]
    }
   ],
   "source": [
    "x = temperature.transpose()\n",
    "print(x)\n",
    "#x.info()"
   ]
  },
  {
   "cell_type": "code",
   "execution_count": 28,
   "id": "e6fdba1a",
   "metadata": {},
   "outputs": [],
   "source": [
    "column_name = [[\"year\", \"temperature_change\"]]"
   ]
  },
  {
   "cell_type": "code",
   "execution_count": 2,
   "id": "e7b43206",
   "metadata": {},
   "outputs": [],
   "source": [
    "#x.columns = column_name"
   ]
  },
  {
   "cell_type": "code",
   "execution_count": 22,
   "id": "9e4e425d",
   "metadata": {
    "scrolled": true
   },
   "outputs": [
    {
     "name": "stdout",
     "output_type": "stream",
     "text": [
      "      temperature_change\n",
      "Y1993              0.348\n",
      "Y1994              0.507\n",
      "Y1995              0.835\n",
      "Y1996              0.355\n",
      "Y1997              0.656\n",
      "Y1998              0.993\n",
      "Y1999              0.783\n",
      "Y2000              0.728\n",
      "Y2001              0.834\n",
      "Y2002              1.021\n",
      "Y2003              0.893\n",
      "Y2004              0.913\n",
      "Y2005              1.095\n",
      "Y2006              0.998\n",
      "Y2007              1.195\n",
      "Y2008              0.935\n",
      "Y2009              0.957\n",
      "Y2010              1.219\n",
      "Y2011              0.921\n",
      "Y2012              1.074\n",
      "Y2013              1.016\n",
      "Y2014              1.053\n",
      "Y2015              1.412\n",
      "Y2016               1.66\n",
      "Y2017              1.429\n",
      "Y2018               1.29\n",
      "Y2019              1.444\n"
     ]
    }
   ],
   "source": [
    "print(x)"
   ]
  },
  {
   "cell_type": "code",
   "execution_count": 19,
   "id": "ac709a0c",
   "metadata": {},
   "outputs": [
    {
     "data": {
      "image/png": "[encoded data removed]",
      "text/plain": [
       "<Figure size 640x480 with 1 Axes>"
      ]
     },
     "metadata": {},
     "output_type": "display_data"
    }
   ],
   "source": [
    "x.temperature_change.plot(kind='box', vert=False)\n",
    "plt.title('Global Temperature change')\n",
    "plt.grid()\n",
    "plt.show()"
   ]
  },
  {
   "cell_type": "code",
   "execution_count": 20,
   "id": "9da95aa4",
   "metadata": {},
   "outputs": [
    {
     "data": {
      "text/plain": [
       "[<matplotlib.lines.Line2D at 0x21e47d61c40>]"
      ]
     },
     "execution_count": 20,
     "metadata": {},
     "output_type": "execute_result"
    },
    {
     "data": {
      "image/png": "[encoded data removed]",
      "text/plain": [
       "<Figure size 640x480 with 1 Axes>"
      ]
     },
     "metadata": {},
     "output_type": "display_data"
    }
   ],
   "source": [
    "plt.plot(x.temperature_change)"
   ]
  },
  {
   "cell_type": "code",
   "execution_count": 1,
   "id": "5e1a69dc",
   "metadata": {
    "scrolled": true
   },
   "outputs": [],
   "source": [
    "#x.append(pd.DataFrame([[\"year\", \"temperature_change\"]], columns = df.columns), ignore_index = False)"
   ]
  },
  {
   "cell_type": "code",
   "execution_count": null,
   "id": "4438d660",
   "metadata": {},
   "outputs": [],
   "source": []
  }
 ],
 "metadata": {
  "kernelspec": {
   "display_name": "Python 3 (ipykernel)",
   "language": "python",
   "name": "python3"
  },
  "language_info": {
   "codemirror_mode": {
    "name": "ipython",
    "version": 3
   },
   "file_extension": ".py",
   "mimetype": "text/x-python",
   "name": "python",
   "nbconvert_exporter": "python",
   "pygments_lexer": "ipython3",
   "version": "3.9.13"
  }
 },
 "nbformat": 4,
 "nbformat_minor": 5
}
