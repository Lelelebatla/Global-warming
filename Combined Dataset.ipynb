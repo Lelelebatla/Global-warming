{
 "cells": [
  {
   "cell_type": "markdown",
   "id": "a6eb9a1b",
   "metadata": {},
   "source": [
    "Temperature Dataset modelling"
   ]
  },
  {
   "cell_type": "code",
   "execution_count": 22,
   "id": "d75f256f",
   "metadata": {},
   "outputs": [
    {
     "name": "stdout",
     "output_type": "stream",
     "text": [
      "<class 'pandas.core.frame.DataFrame'>\n",
      "RangeIndex: 9656 entries, 0 to 9655\n",
      "Columns: 132 entries, Area Code to Y2022F\n",
      "dtypes: float64(62), int64(3), object(67)\n",
      "memory usage: 9.7+ MB\n",
      "None\n",
      "Temperature change    4828\n",
      "Standard Deviation    4828\n",
      "Name: Element, dtype: int64\n"
     ]
    }
   ],
   "source": [
    "import pandas as pd\n",
    "import numpy as np\n",
    "import matplotlib.pyplot as plt\n",
    "\n",
    "df = pd.read_csv('Temperature.csv',  encoding = \"ISO-8859-1\")\n",
    "\n",
    "print (df.info())\n",
    "print (df['Element'].value_counts())"
   ]
  },
  {
   "cell_type": "code",
   "execution_count": 23,
   "id": "65dc8bdf",
   "metadata": {},
   "outputs": [
    {
     "name": "stdout",
     "output_type": "stream",
     "text": [
      "          Area    Months             Element  Y1993  Y1994  Y1995  Y1996  \\\n",
      "0  Afghanistan   January  Temperature change -0.734  1.131  1.287 -0.720   \n",
      "1  Afghanistan   January  Standard Deviation  1.964  1.964  1.964  1.964   \n",
      "2  Afghanistan  February  Temperature change  1.507 -1.358 -0.161  0.865   \n",
      "3  Afghanistan  February  Standard Deviation  2.602  2.602  2.602  2.602   \n",
      "4  Afghanistan     March  Temperature change -1.427  1.291 -1.467 -0.367   \n",
      "\n",
      "   Y1997  Y1998  Y1999  ...  Y2010  Y2011  Y2012  Y2013  Y2014  Y2015  Y2016  \\\n",
      "0  1.402  0.953  0.871  ...  3.619  1.233 -0.504  1.331  1.698  1.908  3.444   \n",
      "1  1.964  1.964  1.964  ...  1.964  1.964  1.964  1.964  1.964  1.964  1.964   \n",
      "2  0.025 -0.530  3.237  ...  1.241  0.211 -3.068  1.558 -3.108  2.585  2.403   \n",
      "3  2.602  2.602  2.602  ...  2.602  2.602  2.602  2.602  2.602  2.602  2.602   \n",
      "4  0.011 -0.609 -0.229  ...  3.464  0.822 -0.384  2.324 -0.051 -0.553  2.388   \n",
      "\n",
      "   Y2017  Y2018  Y2019  \n",
      "0  1.256  2.051  2.858  \n",
      "1  1.964  1.964  1.964  \n",
      "2 -0.224  2.714  0.067  \n",
      "3  2.602  2.602  2.602  \n",
      "4  0.877  4.533  0.293  \n",
      "\n",
      "[5 rows x 30 columns]\n"
     ]
    }
   ],
   "source": [
    " temperature = df[['Area', 'Months', 'Element', 'Y1993', 'Y1994', 'Y1995', 'Y1996', 'Y1997', 'Y1998', 'Y1999', 'Y2000', 'Y2001', 'Y2002',\n",
    "        'Y2003', 'Y2004', 'Y2005', 'Y2006', 'Y2007', 'Y2008', 'Y2009', 'Y2010', 'Y2011', 'Y2012', 'Y2013', 'Y2014', 'Y2015', \n",
    "        'Y2016','Y2017', 'Y2018', 'Y2019']]\n",
    "\n",
    "print(temperature.head())"
   ]
  },
  {
   "cell_type": "code",
   "execution_count": 24,
   "id": "96f740a9",
   "metadata": {
    "scrolled": true
   },
   "outputs": [
    {
     "name": "stdout",
     "output_type": "stream",
     "text": [
      "       Area    Months             Element  Y1993  Y1994  Y1995  Y1996  Y1997  \\\n",
      "8398  World   January  Temperature change  0.723  0.521  1.222  0.267  0.596   \n",
      "8399  World   January  Standard Deviation  0.417  0.417  0.417  0.417  0.417   \n",
      "8400  World  February  Temperature change  0.717 -0.265  1.690  0.776  0.777   \n",
      "8401  World  February  Standard Deviation  0.579  0.579  0.579  0.579  0.579   \n",
      "8402  World     March  Temperature change  0.800  0.710  0.846  0.289  0.817   \n",
      "\n",
      "      Y1998  Y1999  ...  Y2010  Y2011  Y2012  Y2013  Y2014  Y2015  Y2016  \\\n",
      "8398  0.782  1.010  ...  1.088  0.707  0.649  1.127  1.184  1.472  1.744   \n",
      "8399  0.417  0.417  ...  0.417  0.417  0.417  0.417  0.417  0.417  0.417   \n",
      "8400  1.745  1.728  ...  1.286  0.552  0.520  1.326  0.553  1.673  2.592   \n",
      "8401  0.579  0.579  ...  0.579  0.579  0.579  0.579  0.579  0.579  0.579   \n",
      "8402  0.968  0.372  ...  1.570  1.014  0.890  1.122  1.433  1.731  2.582   \n",
      "\n",
      "      Y2017  Y2018  Y2019  \n",
      "8398  1.750  1.301  1.698  \n",
      "8399  0.417  0.417  0.417  \n",
      "8400  1.910  1.356  1.322  \n",
      "8401  0.579  0.579  0.579  \n",
      "8402  1.981  1.642  2.086  \n",
      "\n",
      "[5 rows x 30 columns]\n"
     ]
    }
   ],
   "source": [
    "temperature = temperature[temperature['Area'] == \"World\"]\n",
    "print(temperature.head())"
   ]
  },
  {
   "cell_type": "code",
   "execution_count": 25,
   "id": "7cd10fb8",
   "metadata": {
    "scrolled": true
   },
   "outputs": [
    {
     "name": "stdout",
     "output_type": "stream",
     "text": [
      "       Area    Months             Element  Y1993  Y1994  Y1995  Y1996  Y1997  \\\n",
      "8398  World   January  Temperature change  0.723  0.521  1.222  0.267  0.596   \n",
      "8400  World  February  Temperature change  0.717 -0.265  1.690  0.776  0.777   \n",
      "8402  World     March  Temperature change  0.800  0.710  0.846  0.289  0.817   \n",
      "8404  World     April  Temperature change  0.391  0.628  0.715  0.089  0.619   \n",
      "8406  World       May  Temperature change  0.417  0.699  0.573  0.597  0.448   \n",
      "\n",
      "      Y1998  Y1999  ...  Y2010  Y2011  Y2012  Y2013  Y2014  Y2015  Y2016  \\\n",
      "8398  0.782  1.010  ...  1.088  0.707  0.649  1.127  1.184  1.472  1.744   \n",
      "8400  1.745  1.728  ...  1.286  0.552  0.520  1.326  0.553  1.673  2.592   \n",
      "8402  0.968  0.372  ...  1.570  1.014  0.890  1.122  1.433  1.731  2.582   \n",
      "8404  1.326  0.806  ...  1.542  1.241  1.538  0.883  1.453  1.183  2.046   \n",
      "8406  1.011  0.619  ...  1.259  0.852  1.397  1.187  1.216  1.372  1.387   \n",
      "\n",
      "      Y2017  Y2018  Y2019  \n",
      "8398  1.750  1.301  1.698  \n",
      "8400  1.910  1.356  1.322  \n",
      "8402  1.981  1.642  2.086  \n",
      "8404  1.460  1.346  1.667  \n",
      "8406  1.278  1.299  1.257  \n",
      "\n",
      "[5 rows x 30 columns]\n"
     ]
    }
   ],
   "source": [
    "temperature = temperature[temperature['Element'] == \"Temperature change\"]\n",
    "print(temperature.head())"
   ]
  },
  {
   "cell_type": "code",
   "execution_count": 26,
   "id": "fb092607",
   "metadata": {
    "scrolled": false
   },
   "outputs": [
    {
     "name": "stdout",
     "output_type": "stream",
     "text": [
      "       Area               Months             Element  Y1993  Y1994  Y1995  \\\n",
      "8430  World  Meteorological year  Temperature change  0.348  0.507  0.835   \n",
      "\n",
      "      Y1996  Y1997  Y1998  Y1999  ...  Y2010  Y2011  Y2012  Y2013  Y2014  \\\n",
      "8430  0.355  0.656  0.993  0.783  ...  1.219  0.921  1.074  1.016  1.053   \n",
      "\n",
      "      Y2015  Y2016  Y2017  Y2018  Y2019  \n",
      "8430  1.412   1.66  1.429   1.29  1.444  \n",
      "\n",
      "[1 rows x 30 columns]\n",
      "Meteorological year    1\n",
      "Name: Months, dtype: int64\n"
     ]
    }
   ],
   "source": [
    "temperature = temperature[temperature['Months'] == \"Meteorological year\"]\n",
    "print(temperature.head())\n",
    "print (temperature['Months'].value_counts())"
   ]
  },
  {
   "cell_type": "code",
   "execution_count": 27,
   "id": "d381a70a",
   "metadata": {},
   "outputs": [
    {
     "name": "stdout",
     "output_type": "stream",
     "text": [
      "      Y1993  Y1994  Y1995  Y1996  Y1997  Y1998  Y1999  Y2000  Y2001  Y2002  \\\n",
      "8430  0.348  0.507  0.835  0.355  0.656  0.993  0.783  0.728  0.834  1.021   \n",
      "\n",
      "      ...  Y2010  Y2011  Y2012  Y2013  Y2014  Y2015  Y2016  Y2017  Y2018  \\\n",
      "8430  ...  1.219  0.921  1.074  1.016  1.053  1.412   1.66  1.429   1.29   \n",
      "\n",
      "      Y2019  \n",
      "8430  1.444  \n",
      "\n",
      "[1 rows x 27 columns]\n"
     ]
    }
   ],
   "source": [
    " temperature = temperature[['Y1993', 'Y1994', 'Y1995', 'Y1996', 'Y1997', 'Y1998', 'Y1999', 'Y2000', 'Y2001', 'Y2002',\n",
    "        'Y2003', 'Y2004', 'Y2005', 'Y2006', 'Y2007', 'Y2008', 'Y2009', 'Y2010', 'Y2011', 'Y2012', 'Y2013', 'Y2014', 'Y2015', \n",
    "        'Y2016','Y2017', 'Y2018', 'Y2019']]\n",
    "print(temperature.head())"
   ]
  },
  {
   "cell_type": "code",
   "execution_count": 28,
   "id": "d9e3cee1",
   "metadata": {
    "scrolled": false
   },
   "outputs": [
    {
     "data": {
      "text/html": [
       "<div>\n",
       "<style scoped>\n",
       "    .dataframe tbody tr th:only-of-type {\n",
       "        vertical-align: middle;\n",
       "    }\n",
       "\n",
       "    .dataframe tbody tr th {\n",
       "        vertical-align: top;\n",
       "    }\n",
       "\n",
       "    .dataframe thead th {\n",
       "        text-align: right;\n",
       "    }\n",
       "</style>\n",
       "<table border=\"1\" class=\"dataframe\">\n",
       "  <thead>\n",
       "    <tr style=\"text-align: right;\">\n",
       "      <th></th>\n",
       "      <th>8430</th>\n",
       "    </tr>\n",
       "  </thead>\n",
       "  <tbody>\n",
       "    <tr>\n",
       "      <th>0</th>\n",
       "      <td>0.348</td>\n",
       "    </tr>\n",
       "    <tr>\n",
       "      <th>1</th>\n",
       "      <td>0.507</td>\n",
       "    </tr>\n",
       "    <tr>\n",
       "      <th>2</th>\n",
       "      <td>0.835</td>\n",
       "    </tr>\n",
       "    <tr>\n",
       "      <th>3</th>\n",
       "      <td>0.355</td>\n",
       "    </tr>\n",
       "    <tr>\n",
       "      <th>4</th>\n",
       "      <td>0.656</td>\n",
       "    </tr>\n",
       "    <tr>\n",
       "      <th>5</th>\n",
       "      <td>0.993</td>\n",
       "    </tr>\n",
       "    <tr>\n",
       "      <th>6</th>\n",
       "      <td>0.783</td>\n",
       "    </tr>\n",
       "    <tr>\n",
       "      <th>7</th>\n",
       "      <td>0.728</td>\n",
       "    </tr>\n",
       "    <tr>\n",
       "      <th>8</th>\n",
       "      <td>0.834</td>\n",
       "    </tr>\n",
       "    <tr>\n",
       "      <th>9</th>\n",
       "      <td>1.021</td>\n",
       "    </tr>\n",
       "    <tr>\n",
       "      <th>10</th>\n",
       "      <td>0.893</td>\n",
       "    </tr>\n",
       "    <tr>\n",
       "      <th>11</th>\n",
       "      <td>0.913</td>\n",
       "    </tr>\n",
       "    <tr>\n",
       "      <th>12</th>\n",
       "      <td>1.095</td>\n",
       "    </tr>\n",
       "    <tr>\n",
       "      <th>13</th>\n",
       "      <td>0.998</td>\n",
       "    </tr>\n",
       "    <tr>\n",
       "      <th>14</th>\n",
       "      <td>1.195</td>\n",
       "    </tr>\n",
       "    <tr>\n",
       "      <th>15</th>\n",
       "      <td>0.935</td>\n",
       "    </tr>\n",
       "    <tr>\n",
       "      <th>16</th>\n",
       "      <td>0.957</td>\n",
       "    </tr>\n",
       "    <tr>\n",
       "      <th>17</th>\n",
       "      <td>1.219</td>\n",
       "    </tr>\n",
       "    <tr>\n",
       "      <th>18</th>\n",
       "      <td>0.921</td>\n",
       "    </tr>\n",
       "    <tr>\n",
       "      <th>19</th>\n",
       "      <td>1.074</td>\n",
       "    </tr>\n",
       "    <tr>\n",
       "      <th>20</th>\n",
       "      <td>1.016</td>\n",
       "    </tr>\n",
       "    <tr>\n",
       "      <th>21</th>\n",
       "      <td>1.053</td>\n",
       "    </tr>\n",
       "    <tr>\n",
       "      <th>22</th>\n",
       "      <td>1.412</td>\n",
       "    </tr>\n",
       "    <tr>\n",
       "      <th>23</th>\n",
       "      <td>1.660</td>\n",
       "    </tr>\n",
       "    <tr>\n",
       "      <th>24</th>\n",
       "      <td>1.429</td>\n",
       "    </tr>\n",
       "    <tr>\n",
       "      <th>25</th>\n",
       "      <td>1.290</td>\n",
       "    </tr>\n",
       "    <tr>\n",
       "      <th>26</th>\n",
       "      <td>1.444</td>\n",
       "    </tr>\n",
       "  </tbody>\n",
       "</table>\n",
       "</div>"
      ],
      "text/plain": [
       "     8430\n",
       "0   0.348\n",
       "1   0.507\n",
       "2   0.835\n",
       "3   0.355\n",
       "4   0.656\n",
       "5   0.993\n",
       "6   0.783\n",
       "7   0.728\n",
       "8   0.834\n",
       "9   1.021\n",
       "10  0.893\n",
       "11  0.913\n",
       "12  1.095\n",
       "13  0.998\n",
       "14  1.195\n",
       "15  0.935\n",
       "16  0.957\n",
       "17  1.219\n",
       "18  0.921\n",
       "19  1.074\n",
       "20  1.016\n",
       "21  1.053\n",
       "22  1.412\n",
       "23  1.660\n",
       "24  1.429\n",
       "25  1.290\n",
       "26  1.444"
      ]
     },
     "execution_count": 28,
     "metadata": {},
     "output_type": "execute_result"
    }
   ],
   "source": [
    "temp = temperature.transpose()\n",
    "temp1 = temp.reset_index(drop = True)\n",
    "temp1"
   ]
  },
  {
   "cell_type": "code",
   "execution_count": 29,
   "id": "5a4e396c",
   "metadata": {},
   "outputs": [
    {
     "name": "stderr",
     "output_type": "stream",
     "text": [
      "C:\\Users\\rebzl\\AppData\\Local\\Temp\\ipykernel_19420\\932792743.py:3: UserWarning: Pandas doesn't allow columns to be created via a new attribute name - see https://pandas.pydata.org/pandas-docs/stable/indexing.html#attribute-access\n",
      "  temp.column = column_name\n"
     ]
    }
   ],
   "source": [
    "temp.dtypes\n",
    "column_name = [[\"temperature_change\"]]\n",
    "temp.column = column_name"
   ]
  },
  {
   "cell_type": "code",
   "execution_count": 30,
   "id": "43c51079",
   "metadata": {
    "scrolled": true
   },
   "outputs": [],
   "source": [
    "#temp.index = temp.index.astype('int64')\n",
    "#temp.dtypes"
   ]
  },
  {
   "cell_type": "code",
   "execution_count": 32,
   "id": "0ff8d84c",
   "metadata": {},
   "outputs": [],
   "source": [
    "#temp.8430.plot(kind='box', vert=False)\n",
    "#plt.title('Global Temperature change')\n",
    "#plt.grid()\n",
    "#plt.show()"
   ]
  },
  {
   "cell_type": "code",
   "execution_count": 34,
   "id": "6106c90e",
   "metadata": {
    "scrolled": true
   },
   "outputs": [],
   "source": [
    "#plt.plot(temp.temperature_change)"
   ]
  },
  {
   "cell_type": "code",
   "execution_count": null,
   "id": "fcdf0295",
   "metadata": {},
   "outputs": [],
   "source": []
  },
  {
   "cell_type": "markdown",
   "id": "37bddb0c",
   "metadata": {},
   "source": [
    "Emmissions Dataset"
   ]
  },
  {
   "cell_type": "code",
   "execution_count": 35,
   "id": "32b1b9e3",
   "metadata": {},
   "outputs": [
    {
     "name": "stdout",
     "output_type": "stream",
     "text": [
      "<class 'pandas.core.frame.DataFrame'>\n",
      "RangeIndex: 13953 entries, 0 to 13952\n",
      "Data columns (total 4 columns):\n",
      " #   Column        Non-Null Count  Dtype  \n",
      "---  ------        --------------  -----  \n",
      " 0   country_code  13953 non-null  object \n",
      " 1   country_name  13953 non-null  object \n",
      " 2   year          13953 non-null  int64  \n",
      " 3   value         13953 non-null  float64\n",
      "dtypes: float64(1), int64(1), object(2)\n",
      "memory usage: 436.2+ KB\n",
      "None\n"
     ]
    }
   ],
   "source": [
    "import pandas as pd\n",
    "import numpy as np\n",
    "import matplotlib.pyplot as plt\n",
    "\n",
    "df = pd.read_csv('co2_emissions_kt_by_country.csv',  encoding = \"ISO-8859-1\")\n",
    "\n",
    "print (df.info())"
   ]
  },
  {
   "cell_type": "code",
   "execution_count": 36,
   "id": "21c070d7",
   "metadata": {
    "scrolled": true
   },
   "outputs": [
    {
     "name": "stdout",
     "output_type": "stream",
     "text": [
      "      country_code country_name  year         value\n",
      "33             ABW        Aruba  1993    649.059000\n",
      "34             ABW        Aruba  1994    660.060000\n",
      "35             ABW        Aruba  1995    707.731000\n",
      "36             ABW        Aruba  1996    726.066000\n",
      "37             ABW        Aruba  1997    759.069000\n",
      "...            ...          ...   ...           ...\n",
      "13948          ZWE     Zimbabwe  2015  12430.000305\n",
      "13949          ZWE     Zimbabwe  2016  11020.000458\n",
      "13950          ZWE     Zimbabwe  2017  10340.000153\n",
      "13951          ZWE     Zimbabwe  2018  12380.000114\n",
      "13952          ZWE     Zimbabwe  2019  11760.000229\n",
      "\n",
      "[6782 rows x 4 columns]\n"
     ]
    }
   ],
   "source": [
    "emissions = df.loc[df['year'] >= 1993]\n",
    "print(emissions)"
   ]
  },
  {
   "cell_type": "code",
   "execution_count": 37,
   "id": "974768dd",
   "metadata": {},
   "outputs": [
    {
     "name": "stdout",
     "output_type": "stream",
     "text": [
      "      country_name  year         value\n",
      "33           Aruba  1993    649.059000\n",
      "34           Aruba  1994    660.060000\n",
      "35           Aruba  1995    707.731000\n",
      "36           Aruba  1996    726.066000\n",
      "37           Aruba  1997    759.069000\n",
      "...            ...   ...           ...\n",
      "13948     Zimbabwe  2015  12430.000305\n",
      "13949     Zimbabwe  2016  11020.000458\n",
      "13950     Zimbabwe  2017  10340.000153\n",
      "13951     Zimbabwe  2018  12380.000114\n",
      "13952     Zimbabwe  2019  11760.000229\n",
      "\n",
      "[6782 rows x 3 columns]\n"
     ]
    }
   ],
   "source": [
    "emissions = emissions[['country_name', 'year', 'value']]\n",
    "print(emissions)"
   ]
  },
  {
   "cell_type": "code",
   "execution_count": 38,
   "id": "65e422da",
   "metadata": {},
   "outputs": [
    {
     "name": "stdout",
     "output_type": "stream",
     "text": [
      "      country_name  year         value\n",
      "13625        World  1993  2.093712e+07\n",
      "13626        World  1994  2.105295e+07\n",
      "13627        World  1995  2.165284e+07\n",
      "13628        World  1996  2.211061e+07\n",
      "13629        World  1997  2.249205e+07\n",
      "World    27\n",
      "Name: country_name, dtype: int64\n"
     ]
    }
   ],
   "source": [
    "emissions = emissions[emissions['country_name'] == \"World\"]\n",
    "print(emissions.head())\n",
    "print (emissions['country_name'].value_counts())"
   ]
  },
  {
   "cell_type": "code",
   "execution_count": 40,
   "id": "09beb9b4",
   "metadata": {
    "scrolled": false
   },
   "outputs": [
    {
     "name": "stdout",
     "output_type": "stream",
     "text": [
      "      country_name  year            value\n",
      "13625        World  1993  20937123.283988\n",
      "13626        World  1994  21052949.101765\n",
      "13627        World  1995  21652838.848343\n",
      "13628        World  1996   22110607.50998\n",
      "13629        World  1997  22492054.362559\n",
      "13630        World  1998  22613709.035227\n",
      "13631        World  1999  22720117.592763\n",
      "13632        World  2000  23445433.273458\n",
      "13633        World  2001   23845771.44518\n",
      "13634        World  2002  24165261.257135\n",
      "13635        World  2003  25285349.244404\n",
      "13636        World  2004  26434355.260361\n",
      "13637        World  2005  27414328.022854\n",
      "13638        World  2006  28302931.656345\n",
      "13639        World  2007  29368779.202002\n",
      "13640        World  2008  29595752.397156\n",
      "13641        World  2009   29267375.18512\n",
      "13642        World  2010  31043476.982002\n",
      "13643        World  2011  32021108.256795\n",
      "13644        World  2012  32460316.859925\n",
      "13645        World  2013  33119382.990346\n",
      "13646        World  2014  33198729.820472\n",
      "13647        World  2015  32995536.020088\n",
      "13648        World  2016   33018556.39916\n",
      "13649        World  2017  33514537.911194\n",
      "13650        World  2018  34289350.660764\n",
      "13651        World  2019  34344006.072096\n"
     ]
    }
   ],
   "source": [
    "emissions= emissions.transpose()\n",
    "print(emissions)"
   ]
  },
  {
   "cell_type": "code",
   "execution_count": 41,
   "id": "9b4c97ef",
   "metadata": {
    "scrolled": true
   },
   "outputs": [
    {
     "name": "stdout",
     "output_type": "stream",
     "text": [
      "       year            value\n",
      "13625  1993  20937123.283988\n",
      "13626  1994  21052949.101765\n",
      "13627  1995  21652838.848343\n",
      "13628  1996   22110607.50998\n",
      "13629  1997  22492054.362559\n",
      "13630  1998  22613709.035227\n",
      "13631  1999  22720117.592763\n",
      "13632  2000  23445433.273458\n",
      "13633  2001   23845771.44518\n",
      "13634  2002  24165261.257135\n",
      "13635  2003  25285349.244404\n",
      "13636  2004  26434355.260361\n",
      "13637  2005  27414328.022854\n",
      "13638  2006  28302931.656345\n",
      "13639  2007  29368779.202002\n",
      "13640  2008  29595752.397156\n",
      "13641  2009   29267375.18512\n",
      "13642  2010  31043476.982002\n",
      "13643  2011  32021108.256795\n",
      "13644  2012  32460316.859925\n",
      "13645  2013  33119382.990346\n",
      "13646  2014  33198729.820472\n",
      "13647  2015  32995536.020088\n",
      "13648  2016   33018556.39916\n",
      "13649  2017  33514537.911194\n",
      "13650  2018  34289350.660764\n",
      "13651  2019  34344006.072096\n"
     ]
    }
   ],
   "source": [
    "emissions = emissions[['year', 'value']]\n",
    "print(emissions)"
   ]
  },
  {
   "cell_type": "code",
   "execution_count": 42,
   "id": "5f92368e",
   "metadata": {
    "scrolled": false
   },
   "outputs": [
    {
     "data": {
      "text/html": [
       "<div>\n",
       "<style scoped>\n",
       "    .dataframe tbody tr th:only-of-type {\n",
       "        vertical-align: middle;\n",
       "    }\n",
       "\n",
       "    .dataframe tbody tr th {\n",
       "        vertical-align: top;\n",
       "    }\n",
       "\n",
       "    .dataframe thead th {\n",
       "        text-align: right;\n",
       "    }\n",
       "</style>\n",
       "<table border=\"1\" class=\"dataframe\">\n",
       "  <thead>\n",
       "    <tr style=\"text-align: right;\">\n",
       "      <th></th>\n",
       "      <th>year</th>\n",
       "      <th>Emissions</th>\n",
       "    </tr>\n",
       "  </thead>\n",
       "  <tbody>\n",
       "    <tr>\n",
       "      <th>13625</th>\n",
       "      <td>1993</td>\n",
       "      <td>20937123.283988</td>\n",
       "    </tr>\n",
       "    <tr>\n",
       "      <th>13626</th>\n",
       "      <td>1994</td>\n",
       "      <td>21052949.101765</td>\n",
       "    </tr>\n",
       "    <tr>\n",
       "      <th>13627</th>\n",
       "      <td>1995</td>\n",
       "      <td>21652838.848343</td>\n",
       "    </tr>\n",
       "    <tr>\n",
       "      <th>13628</th>\n",
       "      <td>1996</td>\n",
       "      <td>22110607.50998</td>\n",
       "    </tr>\n",
       "    <tr>\n",
       "      <th>13629</th>\n",
       "      <td>1997</td>\n",
       "      <td>22492054.362559</td>\n",
       "    </tr>\n",
       "    <tr>\n",
       "      <th>13630</th>\n",
       "      <td>1998</td>\n",
       "      <td>22613709.035227</td>\n",
       "    </tr>\n",
       "    <tr>\n",
       "      <th>13631</th>\n",
       "      <td>1999</td>\n",
       "      <td>22720117.592763</td>\n",
       "    </tr>\n",
       "    <tr>\n",
       "      <th>13632</th>\n",
       "      <td>2000</td>\n",
       "      <td>23445433.273458</td>\n",
       "    </tr>\n",
       "    <tr>\n",
       "      <th>13633</th>\n",
       "      <td>2001</td>\n",
       "      <td>23845771.44518</td>\n",
       "    </tr>\n",
       "    <tr>\n",
       "      <th>13634</th>\n",
       "      <td>2002</td>\n",
       "      <td>24165261.257135</td>\n",
       "    </tr>\n",
       "    <tr>\n",
       "      <th>13635</th>\n",
       "      <td>2003</td>\n",
       "      <td>25285349.244404</td>\n",
       "    </tr>\n",
       "    <tr>\n",
       "      <th>13636</th>\n",
       "      <td>2004</td>\n",
       "      <td>26434355.260361</td>\n",
       "    </tr>\n",
       "    <tr>\n",
       "      <th>13637</th>\n",
       "      <td>2005</td>\n",
       "      <td>27414328.022854</td>\n",
       "    </tr>\n",
       "    <tr>\n",
       "      <th>13638</th>\n",
       "      <td>2006</td>\n",
       "      <td>28302931.656345</td>\n",
       "    </tr>\n",
       "    <tr>\n",
       "      <th>13639</th>\n",
       "      <td>2007</td>\n",
       "      <td>29368779.202002</td>\n",
       "    </tr>\n",
       "    <tr>\n",
       "      <th>13640</th>\n",
       "      <td>2008</td>\n",
       "      <td>29595752.397156</td>\n",
       "    </tr>\n",
       "    <tr>\n",
       "      <th>13641</th>\n",
       "      <td>2009</td>\n",
       "      <td>29267375.18512</td>\n",
       "    </tr>\n",
       "    <tr>\n",
       "      <th>13642</th>\n",
       "      <td>2010</td>\n",
       "      <td>31043476.982002</td>\n",
       "    </tr>\n",
       "    <tr>\n",
       "      <th>13643</th>\n",
       "      <td>2011</td>\n",
       "      <td>32021108.256795</td>\n",
       "    </tr>\n",
       "    <tr>\n",
       "      <th>13644</th>\n",
       "      <td>2012</td>\n",
       "      <td>32460316.859925</td>\n",
       "    </tr>\n",
       "    <tr>\n",
       "      <th>13645</th>\n",
       "      <td>2013</td>\n",
       "      <td>33119382.990346</td>\n",
       "    </tr>\n",
       "    <tr>\n",
       "      <th>13646</th>\n",
       "      <td>2014</td>\n",
       "      <td>33198729.820472</td>\n",
       "    </tr>\n",
       "    <tr>\n",
       "      <th>13647</th>\n",
       "      <td>2015</td>\n",
       "      <td>32995536.020088</td>\n",
       "    </tr>\n",
       "    <tr>\n",
       "      <th>13648</th>\n",
       "      <td>2016</td>\n",
       "      <td>33018556.39916</td>\n",
       "    </tr>\n",
       "    <tr>\n",
       "      <th>13649</th>\n",
       "      <td>2017</td>\n",
       "      <td>33514537.911194</td>\n",
       "    </tr>\n",
       "    <tr>\n",
       "      <th>13650</th>\n",
       "      <td>2018</td>\n",
       "      <td>34289350.660764</td>\n",
       "    </tr>\n",
       "    <tr>\n",
       "      <th>13651</th>\n",
       "      <td>2019</td>\n",
       "      <td>34344006.072096</td>\n",
       "    </tr>\n",
       "  </tbody>\n",
       "</table>\n",
       "</div>"
      ],
      "text/plain": [
       "       year        Emissions\n",
       "13625  1993  20937123.283988\n",
       "13626  1994  21052949.101765\n",
       "13627  1995  21652838.848343\n",
       "13628  1996   22110607.50998\n",
       "13629  1997  22492054.362559\n",
       "13630  1998  22613709.035227\n",
       "13631  1999  22720117.592763\n",
       "13632  2000  23445433.273458\n",
       "13633  2001   23845771.44518\n",
       "13634  2002  24165261.257135\n",
       "13635  2003  25285349.244404\n",
       "13636  2004  26434355.260361\n",
       "13637  2005  27414328.022854\n",
       "13638  2006  28302931.656345\n",
       "13639  2007  29368779.202002\n",
       "13640  2008  29595752.397156\n",
       "13641  2009   29267375.18512\n",
       "13642  2010  31043476.982002\n",
       "13643  2011  32021108.256795\n",
       "13644  2012  32460316.859925\n",
       "13645  2013  33119382.990346\n",
       "13646  2014  33198729.820472\n",
       "13647  2015  32995536.020088\n",
       "13648  2016   33018556.39916\n",
       "13649  2017  33514537.911194\n",
       "13650  2018  34289350.660764\n",
       "13651  2019  34344006.072096"
      ]
     },
     "execution_count": 42,
     "metadata": {},
     "output_type": "execute_result"
    }
   ],
   "source": [
    "emissions.rename(columns = {'value' : 'Emissions'})"
   ]
  },
  {
   "cell_type": "code",
   "execution_count": 43,
   "id": "03f16f23",
   "metadata": {},
   "outputs": [
    {
     "data": {
      "image/png": "[encoded data removed]",
      "text/plain": [
       "<Figure size 640x480 with 1 Axes>"
      ]
     },
     "metadata": {},
     "output_type": "display_data"
    }
   ],
   "source": [
    "emissions.value.plot(kind='box', vert=False)\n",
    "plt.title('Global Emissions')\n",
    "plt.grid()\n",
    "plt.show()"
   ]
  },
  {
   "cell_type": "code",
   "execution_count": 44,
   "id": "c03babd5",
   "metadata": {},
   "outputs": [
    {
     "data": {
      "text/plain": [
       "[<matplotlib.lines.Line2D at 0x256d156ab80>]"
      ]
     },
     "execution_count": 44,
     "metadata": {},
     "output_type": "execute_result"
    },
    {
     "data": {
      "image/png": "[encoded data removed]",
      "text/plain": [
       "<Figure size 640x480 with 1 Axes>"
      ]
     },
     "metadata": {},
     "output_type": "display_data"
    }
   ],
   "source": [
    "plt.plot(emissions.value)"
   ]
  },
  {
   "cell_type": "code",
   "execution_count": null,
   "id": "72dd5235",
   "metadata": {},
   "outputs": [],
   "source": []
  },
  {
   "cell_type": "code",
   "execution_count": null,
   "id": "c566547c",
   "metadata": {},
   "outputs": [],
   "source": []
  },
  {
   "cell_type": "markdown",
   "id": "0529a6f4",
   "metadata": {},
   "source": [
    "Sea Level Dataset"
   ]
  },
  {
   "cell_type": "code",
   "execution_count": 45,
   "id": "3aff6a35",
   "metadata": {},
   "outputs": [
    {
     "name": "stdout",
     "output_type": "stream",
     "text": [
      "<class 'pandas.core.frame.DataFrame'>\n",
      "RangeIndex: 1048 entries, 0 to 1047\n",
      "Data columns (total 9 columns):\n",
      " #   Column                       Non-Null Count  Dtype  \n",
      "---  ------                       --------------  -----  \n",
      " 0   Year                         1048 non-null   int64  \n",
      " 1   TotalWeightedObservations    1048 non-null   float64\n",
      " 2   GMSL_noGIA                   1048 non-null   float64\n",
      " 3   StdDevGMSL_noGIA             1048 non-null   float64\n",
      " 4   SmoothedGSML_noGIA           1048 non-null   float64\n",
      " 5   GMSL_GIA                     1048 non-null   float64\n",
      " 6   StdDevGMSL_GIA               1048 non-null   float64\n",
      " 7   SmoothedGSML_GIA             1048 non-null   float64\n",
      " 8   SmoothedGSML_GIA_sigremoved  1048 non-null   float64\n",
      "dtypes: float64(8), int64(1)\n",
      "memory usage: 73.8 KB\n",
      "None\n"
     ]
    }
   ],
   "source": [
    "import pandas as pd\n",
    "import numpy as np\n",
    "import matplotlib.pyplot as plt\n",
    "\n",
    "df = pd.read_csv('sealevel.csv',  encoding = \"ISO-8859-1\")\n",
    "\n",
    "print (df.info())"
   ]
  },
  {
   "cell_type": "code",
   "execution_count": 46,
   "id": "57c0d27b",
   "metadata": {
    "scrolled": true
   },
   "outputs": [
    {
     "name": "stdout",
     "output_type": "stream",
     "text": [
      "      Year  GMSL_GIA\n",
      "0     1993    -38.59\n",
      "1     1993    -41.97\n",
      "2     1993    -41.91\n",
      "3     1993    -42.65\n",
      "4     1993    -37.83\n",
      "...    ...       ...\n",
      "1043  2021     56.17\n",
      "1044  2021     57.42\n",
      "1045  2021     56.57\n",
      "1046  2021     54.41\n",
      "1047  2021     57.01\n",
      "\n",
      "[1048 rows x 2 columns]\n"
     ]
    }
   ],
   "source": [
    "sea_level = df[['Year', 'GMSL_GIA']]\n",
    "print(sea_level)"
   ]
  },
  {
   "cell_type": "code",
   "execution_count": 47,
   "id": "83e043db",
   "metadata": {
    "scrolled": false
   },
   "outputs": [
    {
     "name": "stdout",
     "output_type": "stream",
     "text": [
      "       GMSL_GIA\n",
      "Year           \n",
      "1993 -34.483784\n",
      "1994 -30.584324\n",
      "1995 -28.019459\n",
      "1996 -25.744167\n",
      "1997 -21.591081\n"
     ]
    }
   ],
   "source": [
    "sea_level = sea_level.groupby('Year').mean()\n",
    "print(sea_level.head())"
   ]
  },
  {
   "cell_type": "code",
   "execution_count": 48,
   "id": "22637997",
   "metadata": {
    "scrolled": true
   },
   "outputs": [
    {
     "data": {
      "image/png": "[encoded data removed]",
      "text/plain": [
       "<Figure size 640x480 with 1 Axes>"
      ]
     },
     "metadata": {},
     "output_type": "display_data"
    }
   ],
   "source": [
    "sea_level.GMSL_GIA.plot(kind='box', vert=False)\n",
    "plt.title('Global Mean Sea Level')\n",
    "plt.grid()\n",
    "plt.show()"
   ]
  },
  {
   "cell_type": "code",
   "execution_count": 49,
   "id": "8cb1824e",
   "metadata": {},
   "outputs": [
    {
     "data": {
      "text/plain": [
       "[<matplotlib.lines.Line2D at 0x256d16c0a60>]"
      ]
     },
     "execution_count": 49,
     "metadata": {},
     "output_type": "execute_result"
    },
    {
     "data": {
      "image/png": "[encoded data removed]",
      "text/plain": [
       "<Figure size 640x480 with 1 Axes>"
      ]
     },
     "metadata": {},
     "output_type": "display_data"
    }
   ],
   "source": [
    "plt.plot(sea_level.GMSL_GIA)"
   ]
  },
  {
   "cell_type": "code",
   "execution_count": null,
   "id": "52671192",
   "metadata": {},
   "outputs": [],
   "source": []
  },
  {
   "cell_type": "code",
   "execution_count": null,
   "id": "ba3efeb1",
   "metadata": {},
   "outputs": [],
   "source": []
  },
  {
   "cell_type": "markdown",
   "id": "3784f8f7",
   "metadata": {},
   "source": [
    "Merge Dataframes"
   ]
  },
  {
   "cell_type": "code",
   "execution_count": 50,
   "id": "f2371f0f",
   "metadata": {
    "scrolled": false
   },
   "outputs": [
    {
     "data": {
      "text/html": [
       "<div>\n",
       "<style scoped>\n",
       "    .dataframe tbody tr th:only-of-type {\n",
       "        vertical-align: middle;\n",
       "    }\n",
       "\n",
       "    .dataframe tbody tr th {\n",
       "        vertical-align: top;\n",
       "    }\n",
       "\n",
       "    .dataframe thead th {\n",
       "        text-align: right;\n",
       "    }\n",
       "</style>\n",
       "<table border=\"1\" class=\"dataframe\">\n",
       "  <thead>\n",
       "    <tr style=\"text-align: right;\">\n",
       "      <th></th>\n",
       "      <th>year</th>\n",
       "      <th>value</th>\n",
       "      <th>GMSL_GIA</th>\n",
       "    </tr>\n",
       "  </thead>\n",
       "  <tbody>\n",
       "    <tr>\n",
       "      <th>0</th>\n",
       "      <td>1993</td>\n",
       "      <td>20937123.283988</td>\n",
       "      <td>-34.483784</td>\n",
       "    </tr>\n",
       "    <tr>\n",
       "      <th>1</th>\n",
       "      <td>1994</td>\n",
       "      <td>21052949.101765</td>\n",
       "      <td>-30.584324</td>\n",
       "    </tr>\n",
       "    <tr>\n",
       "      <th>2</th>\n",
       "      <td>1995</td>\n",
       "      <td>21652838.848343</td>\n",
       "      <td>-28.019459</td>\n",
       "    </tr>\n",
       "    <tr>\n",
       "      <th>3</th>\n",
       "      <td>1996</td>\n",
       "      <td>22110607.50998</td>\n",
       "      <td>-25.744167</td>\n",
       "    </tr>\n",
       "    <tr>\n",
       "      <th>4</th>\n",
       "      <td>1997</td>\n",
       "      <td>22492054.362559</td>\n",
       "      <td>-21.591081</td>\n",
       "    </tr>\n",
       "  </tbody>\n",
       "</table>\n",
       "</div>"
      ],
      "text/plain": [
       "   year            value   GMSL_GIA\n",
       "0  1993  20937123.283988 -34.483784\n",
       "1  1994  21052949.101765 -30.584324\n",
       "2  1995  21652838.848343 -28.019459\n",
       "3  1996   22110607.50998 -25.744167\n",
       "4  1997  22492054.362559 -21.591081"
      ]
     },
     "execution_count": 50,
     "metadata": {},
     "output_type": "execute_result"
    }
   ],
   "source": [
    "data = emissions.merge(sea_level, left_on = 'year', right_on = 'Year')\n",
    "data.head()"
   ]
  },
  {
   "cell_type": "code",
   "execution_count": 51,
   "id": "7a85a02d",
   "metadata": {
    "scrolled": true
   },
   "outputs": [
    {
     "data": {
      "text/html": [
       "<div>\n",
       "<style scoped>\n",
       "    .dataframe tbody tr th:only-of-type {\n",
       "        vertical-align: middle;\n",
       "    }\n",
       "\n",
       "    .dataframe tbody tr th {\n",
       "        vertical-align: top;\n",
       "    }\n",
       "\n",
       "    .dataframe thead th {\n",
       "        text-align: right;\n",
       "    }\n",
       "</style>\n",
       "<table border=\"1\" class=\"dataframe\">\n",
       "  <thead>\n",
       "    <tr style=\"text-align: right;\">\n",
       "      <th></th>\n",
       "      <th>year</th>\n",
       "      <th>value</th>\n",
       "      <th>GMSL_GIA</th>\n",
       "      <th>8430</th>\n",
       "    </tr>\n",
       "  </thead>\n",
       "  <tbody>\n",
       "    <tr>\n",
       "      <th>0</th>\n",
       "      <td>1993</td>\n",
       "      <td>20937123.283988</td>\n",
       "      <td>-34.483784</td>\n",
       "      <td>0.348</td>\n",
       "    </tr>\n",
       "    <tr>\n",
       "      <th>1</th>\n",
       "      <td>1994</td>\n",
       "      <td>21052949.101765</td>\n",
       "      <td>-30.584324</td>\n",
       "      <td>0.507</td>\n",
       "    </tr>\n",
       "    <tr>\n",
       "      <th>2</th>\n",
       "      <td>1995</td>\n",
       "      <td>21652838.848343</td>\n",
       "      <td>-28.019459</td>\n",
       "      <td>0.835</td>\n",
       "    </tr>\n",
       "    <tr>\n",
       "      <th>3</th>\n",
       "      <td>1996</td>\n",
       "      <td>22110607.50998</td>\n",
       "      <td>-25.744167</td>\n",
       "      <td>0.355</td>\n",
       "    </tr>\n",
       "    <tr>\n",
       "      <th>4</th>\n",
       "      <td>1997</td>\n",
       "      <td>22492054.362559</td>\n",
       "      <td>-21.591081</td>\n",
       "      <td>0.656</td>\n",
       "    </tr>\n",
       "    <tr>\n",
       "      <th>5</th>\n",
       "      <td>1998</td>\n",
       "      <td>22613709.035227</td>\n",
       "      <td>-23.726486</td>\n",
       "      <td>0.993</td>\n",
       "    </tr>\n",
       "    <tr>\n",
       "      <th>6</th>\n",
       "      <td>1999</td>\n",
       "      <td>22720117.592763</td>\n",
       "      <td>-20.228649</td>\n",
       "      <td>0.783</td>\n",
       "    </tr>\n",
       "    <tr>\n",
       "      <th>7</th>\n",
       "      <td>2000</td>\n",
       "      <td>23445433.273458</td>\n",
       "      <td>-16.597568</td>\n",
       "      <td>0.728</td>\n",
       "    </tr>\n",
       "    <tr>\n",
       "      <th>8</th>\n",
       "      <td>2001</td>\n",
       "      <td>23845771.44518</td>\n",
       "      <td>-11.145405</td>\n",
       "      <td>0.834</td>\n",
       "    </tr>\n",
       "    <tr>\n",
       "      <th>9</th>\n",
       "      <td>2002</td>\n",
       "      <td>24165261.257135</td>\n",
       "      <td>-7.059722</td>\n",
       "      <td>1.021</td>\n",
       "    </tr>\n",
       "    <tr>\n",
       "      <th>10</th>\n",
       "      <td>2003</td>\n",
       "      <td>25285349.244404</td>\n",
       "      <td>-3.763514</td>\n",
       "      <td>0.893</td>\n",
       "    </tr>\n",
       "    <tr>\n",
       "      <th>11</th>\n",
       "      <td>2004</td>\n",
       "      <td>26434355.260361</td>\n",
       "      <td>-1.623514</td>\n",
       "      <td>0.913</td>\n",
       "    </tr>\n",
       "    <tr>\n",
       "      <th>12</th>\n",
       "      <td>2005</td>\n",
       "      <td>27414328.022854</td>\n",
       "      <td>3.015405</td>\n",
       "      <td>1.095</td>\n",
       "    </tr>\n",
       "    <tr>\n",
       "      <th>13</th>\n",
       "      <td>2006</td>\n",
       "      <td>28302931.656345</td>\n",
       "      <td>4.372500</td>\n",
       "      <td>0.998</td>\n",
       "    </tr>\n",
       "    <tr>\n",
       "      <th>14</th>\n",
       "      <td>2007</td>\n",
       "      <td>29368779.202002</td>\n",
       "      <td>5.022432</td>\n",
       "      <td>1.195</td>\n",
       "    </tr>\n",
       "    <tr>\n",
       "      <th>15</th>\n",
       "      <td>2008</td>\n",
       "      <td>29595752.397156</td>\n",
       "      <td>7.328889</td>\n",
       "      <td>0.935</td>\n",
       "    </tr>\n",
       "    <tr>\n",
       "      <th>16</th>\n",
       "      <td>2009</td>\n",
       "      <td>29267375.18512</td>\n",
       "      <td>12.431351</td>\n",
       "      <td>0.957</td>\n",
       "    </tr>\n",
       "    <tr>\n",
       "      <th>17</th>\n",
       "      <td>2010</td>\n",
       "      <td>31043476.982002</td>\n",
       "      <td>13.653514</td>\n",
       "      <td>1.219</td>\n",
       "    </tr>\n",
       "    <tr>\n",
       "      <th>18</th>\n",
       "      <td>2011</td>\n",
       "      <td>32021108.256795</td>\n",
       "      <td>12.935946</td>\n",
       "      <td>0.921</td>\n",
       "    </tr>\n",
       "    <tr>\n",
       "      <th>19</th>\n",
       "      <td>2012</td>\n",
       "      <td>32460316.859925</td>\n",
       "      <td>24.002973</td>\n",
       "      <td>1.074</td>\n",
       "    </tr>\n",
       "    <tr>\n",
       "      <th>20</th>\n",
       "      <td>2013</td>\n",
       "      <td>33119382.990346</td>\n",
       "      <td>26.298649</td>\n",
       "      <td>1.016</td>\n",
       "    </tr>\n",
       "    <tr>\n",
       "      <th>21</th>\n",
       "      <td>2014</td>\n",
       "      <td>33198729.820472</td>\n",
       "      <td>30.078333</td>\n",
       "      <td>1.053</td>\n",
       "    </tr>\n",
       "    <tr>\n",
       "      <th>22</th>\n",
       "      <td>2015</td>\n",
       "      <td>32995536.020088</td>\n",
       "      <td>40.896757</td>\n",
       "      <td>1.412</td>\n",
       "    </tr>\n",
       "    <tr>\n",
       "      <th>23</th>\n",
       "      <td>2016</td>\n",
       "      <td>33018556.39916</td>\n",
       "      <td>43.278378</td>\n",
       "      <td>1.660</td>\n",
       "    </tr>\n",
       "    <tr>\n",
       "      <th>24</th>\n",
       "      <td>2017</td>\n",
       "      <td>33514537.911194</td>\n",
       "      <td>44.345135</td>\n",
       "      <td>1.429</td>\n",
       "    </tr>\n",
       "    <tr>\n",
       "      <th>25</th>\n",
       "      <td>2018</td>\n",
       "      <td>34289350.660764</td>\n",
       "      <td>48.610541</td>\n",
       "      <td>1.290</td>\n",
       "    </tr>\n",
       "    <tr>\n",
       "      <th>26</th>\n",
       "      <td>2019</td>\n",
       "      <td>34344006.072096</td>\n",
       "      <td>55.745676</td>\n",
       "      <td>1.444</td>\n",
       "    </tr>\n",
       "  </tbody>\n",
       "</table>\n",
       "</div>"
      ],
      "text/plain": [
       "    year            value   GMSL_GIA   8430\n",
       "0   1993  20937123.283988 -34.483784  0.348\n",
       "1   1994  21052949.101765 -30.584324  0.507\n",
       "2   1995  21652838.848343 -28.019459  0.835\n",
       "3   1996   22110607.50998 -25.744167  0.355\n",
       "4   1997  22492054.362559 -21.591081  0.656\n",
       "5   1998  22613709.035227 -23.726486  0.993\n",
       "6   1999  22720117.592763 -20.228649  0.783\n",
       "7   2000  23445433.273458 -16.597568  0.728\n",
       "8   2001   23845771.44518 -11.145405  0.834\n",
       "9   2002  24165261.257135  -7.059722  1.021\n",
       "10  2003  25285349.244404  -3.763514  0.893\n",
       "11  2004  26434355.260361  -1.623514  0.913\n",
       "12  2005  27414328.022854   3.015405  1.095\n",
       "13  2006  28302931.656345   4.372500  0.998\n",
       "14  2007  29368779.202002   5.022432  1.195\n",
       "15  2008  29595752.397156   7.328889  0.935\n",
       "16  2009   29267375.18512  12.431351  0.957\n",
       "17  2010  31043476.982002  13.653514  1.219\n",
       "18  2011  32021108.256795  12.935946  0.921\n",
       "19  2012  32460316.859925  24.002973  1.074\n",
       "20  2013  33119382.990346  26.298649  1.016\n",
       "21  2014  33198729.820472  30.078333  1.053\n",
       "22  2015  32995536.020088  40.896757  1.412\n",
       "23  2016   33018556.39916  43.278378  1.660\n",
       "24  2017  33514537.911194  44.345135  1.429\n",
       "25  2018  34289350.660764  48.610541  1.290\n",
       "26  2019  34344006.072096  55.745676  1.444"
      ]
     },
     "execution_count": 51,
     "metadata": {},
     "output_type": "execute_result"
    }
   ],
   "source": [
    "data1 = pd.merge(data, temp1, left_index = True, right_index = True, how = \"outer\")\n",
    "data1"
   ]
  },
  {
   "cell_type": "code",
   "execution_count": 52,
   "id": "3225f738",
   "metadata": {
    "scrolled": true
   },
   "outputs": [],
   "source": [
    "#column_names = [[\"year\", \"Year\"],[\"value\", \"emissions\"],[\"GMSL_GIA\", \"GMSL_GIA1\"],[\"8430\", \"temperature_change\"]]\n",
    "column_names = [[\"year\", \"emissions\", \"GMSL_GIA\", \"temperature_change\"]]\n",
    "data1.columns = column_names"
   ]
  },
  {
   "cell_type": "code",
   "execution_count": 53,
   "id": "5d79a93a",
   "metadata": {
    "scrolled": false
   },
   "outputs": [
    {
     "data": {
      "text/plain": [
       "MultiIndex([(              'year',),\n",
       "            (         'emissions',),\n",
       "            (          'GMSL_GIA',),\n",
       "            ('temperature_change',)],\n",
       "           )"
      ]
     },
     "execution_count": 53,
     "metadata": {},
     "output_type": "execute_result"
    }
   ],
   "source": [
    "data1.columns"
   ]
  },
  {
   "cell_type": "code",
   "execution_count": 54,
   "id": "2ab8350c",
   "metadata": {},
   "outputs": [
    {
     "data": {
      "text/html": [
       "<div>\n",
       "<style scoped>\n",
       "    .dataframe tbody tr th:only-of-type {\n",
       "        vertical-align: middle;\n",
       "    }\n",
       "\n",
       "    .dataframe tbody tr th {\n",
       "        vertical-align: top;\n",
       "    }\n",
       "\n",
       "    .dataframe thead tr th {\n",
       "        text-align: left;\n",
       "    }\n",
       "</style>\n",
       "<table border=\"1\" class=\"dataframe\">\n",
       "  <thead>\n",
       "    <tr>\n",
       "      <th></th>\n",
       "      <th>year</th>\n",
       "      <th>emissions</th>\n",
       "      <th>GMSL_GIA</th>\n",
       "      <th>temperature_change</th>\n",
       "    </tr>\n",
       "  </thead>\n",
       "  <tbody>\n",
       "    <tr>\n",
       "      <th>0</th>\n",
       "      <td>1993</td>\n",
       "      <td>20937123.283988</td>\n",
       "      <td>-34.483784</td>\n",
       "      <td>0.348</td>\n",
       "    </tr>\n",
       "    <tr>\n",
       "      <th>1</th>\n",
       "      <td>1994</td>\n",
       "      <td>21052949.101765</td>\n",
       "      <td>-30.584324</td>\n",
       "      <td>0.507</td>\n",
       "    </tr>\n",
       "    <tr>\n",
       "      <th>2</th>\n",
       "      <td>1995</td>\n",
       "      <td>21652838.848343</td>\n",
       "      <td>-28.019459</td>\n",
       "      <td>0.835</td>\n",
       "    </tr>\n",
       "    <tr>\n",
       "      <th>3</th>\n",
       "      <td>1996</td>\n",
       "      <td>22110607.50998</td>\n",
       "      <td>-25.744167</td>\n",
       "      <td>0.355</td>\n",
       "    </tr>\n",
       "    <tr>\n",
       "      <th>4</th>\n",
       "      <td>1997</td>\n",
       "      <td>22492054.362559</td>\n",
       "      <td>-21.591081</td>\n",
       "      <td>0.656</td>\n",
       "    </tr>\n",
       "    <tr>\n",
       "      <th>5</th>\n",
       "      <td>1998</td>\n",
       "      <td>22613709.035227</td>\n",
       "      <td>-23.726486</td>\n",
       "      <td>0.993</td>\n",
       "    </tr>\n",
       "    <tr>\n",
       "      <th>6</th>\n",
       "      <td>1999</td>\n",
       "      <td>22720117.592763</td>\n",
       "      <td>-20.228649</td>\n",
       "      <td>0.783</td>\n",
       "    </tr>\n",
       "    <tr>\n",
       "      <th>7</th>\n",
       "      <td>2000</td>\n",
       "      <td>23445433.273458</td>\n",
       "      <td>-16.597568</td>\n",
       "      <td>0.728</td>\n",
       "    </tr>\n",
       "    <tr>\n",
       "      <th>8</th>\n",
       "      <td>2001</td>\n",
       "      <td>23845771.44518</td>\n",
       "      <td>-11.145405</td>\n",
       "      <td>0.834</td>\n",
       "    </tr>\n",
       "    <tr>\n",
       "      <th>9</th>\n",
       "      <td>2002</td>\n",
       "      <td>24165261.257135</td>\n",
       "      <td>-7.059722</td>\n",
       "      <td>1.021</td>\n",
       "    </tr>\n",
       "    <tr>\n",
       "      <th>10</th>\n",
       "      <td>2003</td>\n",
       "      <td>25285349.244404</td>\n",
       "      <td>-3.763514</td>\n",
       "      <td>0.893</td>\n",
       "    </tr>\n",
       "    <tr>\n",
       "      <th>11</th>\n",
       "      <td>2004</td>\n",
       "      <td>26434355.260361</td>\n",
       "      <td>-1.623514</td>\n",
       "      <td>0.913</td>\n",
       "    </tr>\n",
       "    <tr>\n",
       "      <th>12</th>\n",
       "      <td>2005</td>\n",
       "      <td>27414328.022854</td>\n",
       "      <td>3.015405</td>\n",
       "      <td>1.095</td>\n",
       "    </tr>\n",
       "    <tr>\n",
       "      <th>13</th>\n",
       "      <td>2006</td>\n",
       "      <td>28302931.656345</td>\n",
       "      <td>4.372500</td>\n",
       "      <td>0.998</td>\n",
       "    </tr>\n",
       "    <tr>\n",
       "      <th>14</th>\n",
       "      <td>2007</td>\n",
       "      <td>29368779.202002</td>\n",
       "      <td>5.022432</td>\n",
       "      <td>1.195</td>\n",
       "    </tr>\n",
       "    <tr>\n",
       "      <th>15</th>\n",
       "      <td>2008</td>\n",
       "      <td>29595752.397156</td>\n",
       "      <td>7.328889</td>\n",
       "      <td>0.935</td>\n",
       "    </tr>\n",
       "    <tr>\n",
       "      <th>16</th>\n",
       "      <td>2009</td>\n",
       "      <td>29267375.18512</td>\n",
       "      <td>12.431351</td>\n",
       "      <td>0.957</td>\n",
       "    </tr>\n",
       "    <tr>\n",
       "      <th>17</th>\n",
       "      <td>2010</td>\n",
       "      <td>31043476.982002</td>\n",
       "      <td>13.653514</td>\n",
       "      <td>1.219</td>\n",
       "    </tr>\n",
       "    <tr>\n",
       "      <th>18</th>\n",
       "      <td>2011</td>\n",
       "      <td>32021108.256795</td>\n",
       "      <td>12.935946</td>\n",
       "      <td>0.921</td>\n",
       "    </tr>\n",
       "    <tr>\n",
       "      <th>19</th>\n",
       "      <td>2012</td>\n",
       "      <td>32460316.859925</td>\n",
       "      <td>24.002973</td>\n",
       "      <td>1.074</td>\n",
       "    </tr>\n",
       "    <tr>\n",
       "      <th>20</th>\n",
       "      <td>2013</td>\n",
       "      <td>33119382.990346</td>\n",
       "      <td>26.298649</td>\n",
       "      <td>1.016</td>\n",
       "    </tr>\n",
       "    <tr>\n",
       "      <th>21</th>\n",
       "      <td>2014</td>\n",
       "      <td>33198729.820472</td>\n",
       "      <td>30.078333</td>\n",
       "      <td>1.053</td>\n",
       "    </tr>\n",
       "    <tr>\n",
       "      <th>22</th>\n",
       "      <td>2015</td>\n",
       "      <td>32995536.020088</td>\n",
       "      <td>40.896757</td>\n",
       "      <td>1.412</td>\n",
       "    </tr>\n",
       "    <tr>\n",
       "      <th>23</th>\n",
       "      <td>2016</td>\n",
       "      <td>33018556.39916</td>\n",
       "      <td>43.278378</td>\n",
       "      <td>1.660</td>\n",
       "    </tr>\n",
       "    <tr>\n",
       "      <th>24</th>\n",
       "      <td>2017</td>\n",
       "      <td>33514537.911194</td>\n",
       "      <td>44.345135</td>\n",
       "      <td>1.429</td>\n",
       "    </tr>\n",
       "    <tr>\n",
       "      <th>25</th>\n",
       "      <td>2018</td>\n",
       "      <td>34289350.660764</td>\n",
       "      <td>48.610541</td>\n",
       "      <td>1.290</td>\n",
       "    </tr>\n",
       "    <tr>\n",
       "      <th>26</th>\n",
       "      <td>2019</td>\n",
       "      <td>34344006.072096</td>\n",
       "      <td>55.745676</td>\n",
       "      <td>1.444</td>\n",
       "    </tr>\n",
       "  </tbody>\n",
       "</table>\n",
       "</div>"
      ],
      "text/plain": [
       "    year        emissions   GMSL_GIA temperature_change\n",
       "0   1993  20937123.283988 -34.483784              0.348\n",
       "1   1994  21052949.101765 -30.584324              0.507\n",
       "2   1995  21652838.848343 -28.019459              0.835\n",
       "3   1996   22110607.50998 -25.744167              0.355\n",
       "4   1997  22492054.362559 -21.591081              0.656\n",
       "5   1998  22613709.035227 -23.726486              0.993\n",
       "6   1999  22720117.592763 -20.228649              0.783\n",
       "7   2000  23445433.273458 -16.597568              0.728\n",
       "8   2001   23845771.44518 -11.145405              0.834\n",
       "9   2002  24165261.257135  -7.059722              1.021\n",
       "10  2003  25285349.244404  -3.763514              0.893\n",
       "11  2004  26434355.260361  -1.623514              0.913\n",
       "12  2005  27414328.022854   3.015405              1.095\n",
       "13  2006  28302931.656345   4.372500              0.998\n",
       "14  2007  29368779.202002   5.022432              1.195\n",
       "15  2008  29595752.397156   7.328889              0.935\n",
       "16  2009   29267375.18512  12.431351              0.957\n",
       "17  2010  31043476.982002  13.653514              1.219\n",
       "18  2011  32021108.256795  12.935946              0.921\n",
       "19  2012  32460316.859925  24.002973              1.074\n",
       "20  2013  33119382.990346  26.298649              1.016\n",
       "21  2014  33198729.820472  30.078333              1.053\n",
       "22  2015  32995536.020088  40.896757              1.412\n",
       "23  2016   33018556.39916  43.278378              1.660\n",
       "24  2017  33514537.911194  44.345135              1.429\n",
       "25  2018  34289350.660764  48.610541              1.290\n",
       "26  2019  34344006.072096  55.745676              1.444"
      ]
     },
     "execution_count": 54,
     "metadata": {},
     "output_type": "execute_result"
    }
   ],
   "source": [
    "data1"
   ]
  },
  {
   "cell_type": "code",
   "execution_count": 55,
   "id": "1a279928",
   "metadata": {
    "scrolled": true
   },
   "outputs": [
    {
     "data": {
      "text/plain": [
       "year                   object\n",
       "emissions              object\n",
       "GMSL_GIA              float64\n",
       "temperature_change    float64\n",
       "dtype: object"
      ]
     },
     "execution_count": 55,
     "metadata": {},
     "output_type": "execute_result"
    }
   ],
   "source": [
    "data1.dtypes"
   ]
  },
  {
   "cell_type": "code",
   "execution_count": 56,
   "id": "b68c9119",
   "metadata": {
    "scrolled": true
   },
   "outputs": [
    {
     "data": {
      "text/plain": [
       "year                   object\n",
       "emissions               int64\n",
       "GMSL_GIA              float64\n",
       "temperature_change    float64\n",
       "dtype: object"
      ]
     },
     "execution_count": 56,
     "metadata": {},
     "output_type": "execute_result"
    }
   ],
   "source": [
    "data1.emissions = data1.emissions.astype('int64')\n",
    "data1.dtypes"
   ]
  },
  {
   "cell_type": "code",
   "execution_count": 57,
   "id": "b58a1061",
   "metadata": {
    "scrolled": true
   },
   "outputs": [
    {
     "data": {
      "text/plain": [
       "[<matplotlib.lines.Line2D at 0x256d1743190>]"
      ]
     },
     "execution_count": 57,
     "metadata": {},
     "output_type": "execute_result"
    },
    {
     "data": {
      "image/png": "[encoded data removed]",
      "text/plain": [
       "<Figure size 640x480 with 1 Axes>"
      ]
     },
     "metadata": {},
     "output_type": "display_data"
    }
   ],
   "source": [
    "plt.title('Global Emissions and Mean Sea Level')\n",
    "plt.plot(data1.emissions, data1.GMSL_GIA)\n"
   ]
  },
  {
   "cell_type": "code",
   "execution_count": 77,
   "id": "9d7be9cd",
   "metadata": {},
   "outputs": [
    {
     "data": {
      "text/plain": [
       "[<matplotlib.lines.Line2D at 0x256d419ad90>]"
      ]
     },
     "execution_count": 77,
     "metadata": {},
     "output_type": "execute_result"
    },
    {
     "data": {
      "image/png": "[encoded data removed]",
      "text/plain": [
       "<Figure size 640x480 with 1 Axes>"
      ]
     },
     "metadata": {},
     "output_type": "display_data"
    }
   ],
   "source": [
    "plt.title('Global Emissions and Temperature change')\n",
    "plt.plot(data1.emissions, data1.temperature_change)"
   ]
  },
  {
   "cell_type": "code",
   "execution_count": 78,
   "id": "1a60cd21",
   "metadata": {
    "scrolled": true
   },
   "outputs": [
    {
     "data": {
      "text/plain": [
       "[<matplotlib.lines.Line2D at 0x256d42098b0>]"
      ]
     },
     "execution_count": 78,
     "metadata": {},
     "output_type": "execute_result"
    },
    {
     "data": {
      "image/png": "[encoded data removed]",
      "text/plain": [
       "<Figure size 640x480 with 1 Axes>"
      ]
     },
     "metadata": {},
     "output_type": "display_data"
    }
   ],
   "source": [
    "plt.title('Global Temperature Change and Mean Sea Level')\n",
    "plt.plot(data1.GMSL_GIA, data1.temperature_change)"
   ]
  },
  {
   "cell_type": "code",
   "execution_count": 60,
   "id": "57618b96",
   "metadata": {},
   "outputs": [
    {
     "data": {
      "text/html": [
       "<div>\n",
       "<style scoped>\n",
       "    .dataframe tbody tr th:only-of-type {\n",
       "        vertical-align: middle;\n",
       "    }\n",
       "\n",
       "    .dataframe tbody tr th {\n",
       "        vertical-align: top;\n",
       "    }\n",
       "\n",
       "    .dataframe thead tr th {\n",
       "        text-align: left;\n",
       "    }\n",
       "</style>\n",
       "<table border=\"1\" class=\"dataframe\">\n",
       "  <thead>\n",
       "    <tr>\n",
       "      <th></th>\n",
       "      <th>emissions</th>\n",
       "      <th>GMSL_GIA</th>\n",
       "      <th>temperature_change</th>\n",
       "    </tr>\n",
       "  </thead>\n",
       "  <tbody>\n",
       "    <tr>\n",
       "      <th>emissions</th>\n",
       "      <td>1.000000</td>\n",
       "      <td>0.966494</td>\n",
       "      <td>0.812504</td>\n",
       "    </tr>\n",
       "    <tr>\n",
       "      <th>GMSL_GIA</th>\n",
       "      <td>0.966494</td>\n",
       "      <td>1.000000</td>\n",
       "      <td>0.867840</td>\n",
       "    </tr>\n",
       "    <tr>\n",
       "      <th>temperature_change</th>\n",
       "      <td>0.812504</td>\n",
       "      <td>0.867840</td>\n",
       "      <td>1.000000</td>\n",
       "    </tr>\n",
       "  </tbody>\n",
       "</table>\n",
       "</div>"
      ],
      "text/plain": [
       "                   emissions  GMSL_GIA temperature_change\n",
       "emissions           1.000000  0.966494           0.812504\n",
       "GMSL_GIA            0.966494  1.000000           0.867840\n",
       "temperature_change  0.812504  0.867840           1.000000"
      ]
     },
     "execution_count": 60,
     "metadata": {},
     "output_type": "execute_result"
    }
   ],
   "source": [
    "data1.corr()"
   ]
  },
  {
   "cell_type": "code",
   "execution_count": 61,
   "id": "8d5308e9",
   "metadata": {},
   "outputs": [
    {
     "data": {
      "text/plain": [
       "<AxesSubplot:xlabel='None', ylabel='None'>"
      ]
     },
     "execution_count": 61,
     "metadata": {},
     "output_type": "execute_result"
    },
    {
     "data": {
      "image/png": "[encoded data removed]",
      "text/plain": [
       "<Figure size 640x480 with 2 Axes>"
      ]
     },
     "metadata": {},
     "output_type": "display_data"
    }
   ],
   "source": [
    "#Correlation plot\n",
    "import seaborn as sns\n",
    "\n",
    "sns.heatmap(data1.corr())"
   ]
  },
  {
   "cell_type": "markdown",
   "id": "f836c7b3",
   "metadata": {},
   "source": [
    "Multiple Linear Regression"
   ]
  },
  {
   "cell_type": "code",
   "execution_count": 62,
   "id": "457d067b",
   "metadata": {},
   "outputs": [
    {
     "data": {
      "text/plain": [
       "year                  0\n",
       "emissions             0\n",
       "GMSL_GIA              0\n",
       "temperature_change    0\n",
       "dtype: int64"
      ]
     },
     "execution_count": 62,
     "metadata": {},
     "output_type": "execute_result"
    }
   ],
   "source": [
    "data1.isnull().sum()"
   ]
  },
  {
   "cell_type": "code",
   "execution_count": 63,
   "id": "73069c34",
   "metadata": {},
   "outputs": [
    {
     "name": "stderr",
     "output_type": "stream",
     "text": [
      "C:\\Users\\rebzl\\AppData\\Local\\Temp\\ipykernel_19420\\211823125.py:1: PerformanceWarning: dropping on a non-lexsorted multi-index without a level parameter may impact performance.\n",
      "  x1 = data1.drop(columns = 'year')\n",
      "C:\\Users\\rebzl\\AppData\\Local\\Temp\\ipykernel_19420\\211823125.py:2: PerformanceWarning: dropping on a non-lexsorted multi-index without a level parameter may impact performance.\n",
      "  X = x1.drop(columns = 'GMSL_GIA')\n"
     ]
    }
   ],
   "source": [
    "x1 = data1.drop(columns = 'year')\n",
    "X = x1.drop(columns = 'GMSL_GIA')\n",
    "#x"
   ]
  },
  {
   "cell_type": "code",
   "execution_count": 64,
   "id": "d7230140",
   "metadata": {
    "scrolled": true
   },
   "outputs": [],
   "source": [
    "y = data['GMSL_GIA']\n",
    "#y"
   ]
  },
  {
   "cell_type": "code",
   "execution_count": 65,
   "id": "58b8e08f",
   "metadata": {
    "scrolled": true
   },
   "outputs": [],
   "source": [
    "from sklearn.model_selection import train_test_split\n",
    "X_train, X_test, y_train, y_test = train_test_split(X, y, test_size = 0.3, random_state = 0)"
   ]
  },
  {
   "cell_type": "code",
   "execution_count": 66,
   "id": "28cc0328",
   "metadata": {},
   "outputs": [],
   "source": [
    "from sklearn.linear_model import LinearRegression\n",
    "lr = LinearRegression()"
   ]
  },
  {
   "cell_type": "code",
   "execution_count": 67,
   "id": "10ecccf3",
   "metadata": {},
   "outputs": [
    {
     "name": "stderr",
     "output_type": "stream",
     "text": [
      "C:\\Users\\rebzl\\anaconda3\\lib\\site-packages\\sklearn\\utils\\validation.py:1688: FutureWarning: Feature names only support names that are all strings. Got feature names with dtypes: ['tuple']. An error will be raised in 1.2.\n",
      "  warnings.warn(\n"
     ]
    },
    {
     "data": {
      "text/plain": [
       "LinearRegression()"
      ]
     },
     "execution_count": 67,
     "metadata": {},
     "output_type": "execute_result"
    }
   ],
   "source": [
    "lr.fit(X_train, y_train)"
   ]
  },
  {
   "cell_type": "code",
   "execution_count": 68,
   "id": "c13b508a",
   "metadata": {},
   "outputs": [
    {
     "data": {
      "text/plain": [
       "-126.45857202013437"
      ]
     },
     "execution_count": 68,
     "metadata": {},
     "output_type": "execute_result"
    }
   ],
   "source": [
    "c = lr.intercept_\n",
    "c"
   ]
  },
  {
   "cell_type": "code",
   "execution_count": 69,
   "id": "6d4d60a7",
   "metadata": {},
   "outputs": [
    {
     "data": {
      "text/plain": [
       "array([3.74686335e-06, 3.06385980e+01])"
      ]
     },
     "execution_count": 69,
     "metadata": {},
     "output_type": "execute_result"
    }
   ],
   "source": [
    "m = lr.coef_\n",
    "m"
   ]
  },
  {
   "cell_type": "code",
   "execution_count": 70,
   "id": "81a2bcb9",
   "metadata": {},
   "outputs": [
    {
     "name": "stderr",
     "output_type": "stream",
     "text": [
      "C:\\Users\\rebzl\\anaconda3\\lib\\site-packages\\sklearn\\utils\\validation.py:1688: FutureWarning: Feature names only support names that are all strings. Got feature names with dtypes: ['tuple']. An error will be raised in 1.2.\n",
      "  warnings.warn(\n"
     ]
    }
   ],
   "source": [
    "y_pred_train = lr.predict(X_train)"
   ]
  },
  {
   "cell_type": "code",
   "execution_count": 71,
   "id": "69d071f6",
   "metadata": {},
   "outputs": [
    {
     "data": {
      "text/plain": [
       "array([ 28.76404217,  12.52342103, -32.0422798 ,  -4.35755653,\n",
       "        46.46586089,  41.54272824, -11.55913586, -17.33937607,\n",
       "       -22.08499891,  21.73829276,  -4.63263266, -16.30683902,\n",
       "        40.43289293, -32.73644669, -37.34780107,  30.19497266,\n",
       "        13.07975562,   9.80843366])"
      ]
     },
     "execution_count": 71,
     "metadata": {},
     "output_type": "execute_result"
    }
   ],
   "source": [
    "y_pred_train"
   ]
  },
  {
   "cell_type": "code",
   "execution_count": 72,
   "id": "c2446cd7",
   "metadata": {},
   "outputs": [
    {
     "data": {
      "image/png": "[encoded data removed]",
      "text/plain": [
       "<Figure size 640x480 with 1 Axes>"
      ]
     },
     "metadata": {},
     "output_type": "display_data"
    }
   ],
   "source": [
    "import matplotlib.pyplot as plt\n",
    "\n",
    "plt.scatter(y_train, y_pred_train)\n",
    "plt.xlabel(\"Actual Sea Level Rises\")\n",
    "plt.ylabel(\"Predicted Sea Level Rises\")\n",
    "plt.show()"
   ]
  },
  {
   "cell_type": "code",
   "execution_count": 73,
   "id": "173a0406",
   "metadata": {},
   "outputs": [
    {
     "data": {
      "text/plain": [
       "0.9712937442579348"
      ]
     },
     "execution_count": 73,
     "metadata": {},
     "output_type": "execute_result"
    }
   ],
   "source": [
    "from sklearn.metrics import r2_score\n",
    "\n",
    "r2_score(y_train, y_pred_train)"
   ]
  },
  {
   "cell_type": "code",
   "execution_count": 74,
   "id": "64ebcf64",
   "metadata": {},
   "outputs": [
    {
     "name": "stderr",
     "output_type": "stream",
     "text": [
      "C:\\Users\\rebzl\\anaconda3\\lib\\site-packages\\sklearn\\utils\\validation.py:1688: FutureWarning: Feature names only support names that are all strings. Got feature names with dtypes: ['tuple']. An error will be raised in 1.2.\n",
      "  warnings.warn(\n"
     ]
    }
   ],
   "source": [
    "y_pred_test = lr.predict(X_test)"
   ]
  },
  {
   "cell_type": "code",
   "execution_count": 75,
   "id": "526c298d",
   "metadata": {},
   "outputs": [
    {
     "data": {
      "image/png": "[encoded data removed]",
      "text/plain": [
       "<Figure size 640x480 with 1 Axes>"
      ]
     },
     "metadata": {},
     "output_type": "display_data"
    }
   ],
   "source": [
    "plt.scatter(y_test, y_pred_test)\n",
    "plt.xlabel(\"Actual Sea Level Rises\")\n",
    "plt.ylabel(\"Predicted Sea Level Rises\")\n",
    "plt.show()"
   ]
  },
  {
   "cell_type": "code",
   "execution_count": 76,
   "id": "1c9fdf57",
   "metadata": {},
   "outputs": [
    {
     "data": {
      "text/plain": [
       "0.8637441484896622"
      ]
     },
     "execution_count": 76,
     "metadata": {},
     "output_type": "execute_result"
    }
   ],
   "source": [
    "r2_score(y_test, y_pred_test)"
   ]
  },
  {
   "cell_type": "code",
   "execution_count": null,
   "id": "986b8d6b",
   "metadata": {},
   "outputs": [],
   "source": []
  },
  {
   "cell_type": "code",
   "execution_count": null,
   "id": "1eb8adf0",
   "metadata": {},
   "outputs": [],
   "source": []
  },
  {
   "cell_type": "markdown",
   "id": "455a8176",
   "metadata": {},
   "source": [
    "Time Series"
   ]
  },
  {
   "cell_type": "code",
   "execution_count": 121,
   "id": "37bb5433",
   "metadata": {},
   "outputs": [
    {
     "data": {
      "text/html": [
       "<div>\n",
       "<style scoped>\n",
       "    .dataframe tbody tr th:only-of-type {\n",
       "        vertical-align: middle;\n",
       "    }\n",
       "\n",
       "    .dataframe tbody tr th {\n",
       "        vertical-align: top;\n",
       "    }\n",
       "\n",
       "    .dataframe thead tr th {\n",
       "        text-align: left;\n",
       "    }\n",
       "</style>\n",
       "<table border=\"1\" class=\"dataframe\">\n",
       "  <thead>\n",
       "    <tr>\n",
       "      <th></th>\n",
       "      <th>year</th>\n",
       "      <th>emissions</th>\n",
       "      <th>GMSL_GIA</th>\n",
       "      <th>temperature_change</th>\n",
       "    </tr>\n",
       "  </thead>\n",
       "  <tbody>\n",
       "    <tr>\n",
       "      <th>22</th>\n",
       "      <td>2015</td>\n",
       "      <td>32995536</td>\n",
       "      <td>40.896757</td>\n",
       "      <td>1.412</td>\n",
       "    </tr>\n",
       "    <tr>\n",
       "      <th>23</th>\n",
       "      <td>2016</td>\n",
       "      <td>33018556</td>\n",
       "      <td>43.278378</td>\n",
       "      <td>1.660</td>\n",
       "    </tr>\n",
       "    <tr>\n",
       "      <th>24</th>\n",
       "      <td>2017</td>\n",
       "      <td>33514537</td>\n",
       "      <td>44.345135</td>\n",
       "      <td>1.429</td>\n",
       "    </tr>\n",
       "    <tr>\n",
       "      <th>25</th>\n",
       "      <td>2018</td>\n",
       "      <td>34289350</td>\n",
       "      <td>48.610541</td>\n",
       "      <td>1.290</td>\n",
       "    </tr>\n",
       "    <tr>\n",
       "      <th>26</th>\n",
       "      <td>2019</td>\n",
       "      <td>34344006</td>\n",
       "      <td>55.745676</td>\n",
       "      <td>1.444</td>\n",
       "    </tr>\n",
       "  </tbody>\n",
       "</table>\n",
       "</div>"
      ],
      "text/plain": [
       "    year emissions   GMSL_GIA temperature_change\n",
       "22  2015  32995536  40.896757              1.412\n",
       "23  2016  33018556  43.278378              1.660\n",
       "24  2017  33514537  44.345135              1.429\n",
       "25  2018  34289350  48.610541              1.290\n",
       "26  2019  34344006  55.745676              1.444"
      ]
     },
     "execution_count": 121,
     "metadata": {},
     "output_type": "execute_result"
    }
   ],
   "source": [
    "data1.head()\n",
    "data1.tail()"
   ]
  },
  {
   "cell_type": "code",
   "execution_count": 118,
   "id": "464fedb9",
   "metadata": {},
   "outputs": [
    {
     "name": "stdout",
     "output_type": "stream",
     "text": [
      "<class 'pandas.core.frame.DataFrame'>\n",
      "Int64Index: 27 entries, 0 to 26\n",
      "Data columns (total 4 columns):\n",
      " #   Column                 Non-Null Count  Dtype  \n",
      "---  ------                 --------------  -----  \n",
      " 0   (year,)                27 non-null     object \n",
      " 1   (emissions,)           27 non-null     int64  \n",
      " 2   (GMSL_GIA,)            27 non-null     float64\n",
      " 3   (temperature_change,)  27 non-null     float64\n",
      "dtypes: float64(2), int64(1), object(1)\n",
      "memory usage: 2.1+ KB\n"
     ]
    }
   ],
   "source": [
    "data1.info()"
   ]
  },
  {
   "cell_type": "code",
   "execution_count": 80,
   "id": "cf016ed4",
   "metadata": {},
   "outputs": [
    {
     "name": "stdout",
     "output_type": "stream",
     "text": [
      "ADF Statistic: 1.234046\n",
      "p-value: 0.996213\n"
     ]
    }
   ],
   "source": [
    "#finding order of differencing\n",
    "\n",
    "from statsmodels.tsa.stattools import adfuller\n",
    "from numpy import log\n",
    "\n",
    "result = adfuller(data1.GMSL_GIA.dropna())\n",
    "print('ADF Statistic: %f' % result[0])\n",
    "print('p-value: %f' % result[1])"
   ]
  },
  {
   "cell_type": "code",
   "execution_count": 81,
   "id": "f170fe4f",
   "metadata": {},
   "outputs": [],
   "source": [
    "import numpy as np, pandas as pd\n",
    "from statsmodels.graphics.tsaplots import plot_acf, plot_pacf\n",
    "import matplotlib.pyplot as plt"
   ]
  },
  {
   "cell_type": "code",
   "execution_count": 82,
   "id": "2067442a",
   "metadata": {},
   "outputs": [
    {
     "data": {
      "image/png": "[encoded data removed]",
      "text/plain": [
       "<Figure size 640x480 with 6 Axes>"
      ]
     },
     "metadata": {},
     "output_type": "display_data"
    }
   ],
   "source": [
    "# Original Series\n",
    "fig, axes = plt.subplots(3, 2, sharex=True)\n",
    "axes[0, 0].plot(data1.GMSL_GIA); axes[0, 0].set_title('Original Series')\n",
    "plot_acf(data1.GMSL_GIA, ax=axes[0, 1])\n",
    "\n",
    "# 1st Differencing\n",
    "axes[1, 0].plot(data1.GMSL_GIA.diff()); axes[1, 0].set_title('1st Order Differencing')\n",
    "plot_acf(data1.GMSL_GIA.diff().dropna(), ax=axes[1, 1])\n",
    "\n",
    "# 2nd Differencing\n",
    "axes[2, 0].plot(data1.GMSL_GIA.diff().diff()); axes[2, 0].set_title('2nd Order Differencing')\n",
    "plot_acf(data1.GMSL_GIA.diff().diff().dropna(), ax=axes[2, 1])\n",
    "\n",
    "plt.show()"
   ]
  },
  {
   "cell_type": "code",
   "execution_count": 107,
   "id": "2b242aa4",
   "metadata": {
    "scrolled": true
   },
   "outputs": [
    {
     "ename": "ValueError",
     "evalue": "Can only compute partial correlations for lags up to 50% of the sample size. The requested nlags 15 must be < 13.",
     "output_type": "error",
     "traceback": [
      "\u001b[1;31m---------------------------------------------------------------------------\u001b[0m",
      "\u001b[1;31mValueError\u001b[0m                                Traceback (most recent call last)",
      "\u001b[1;32m~\\AppData\\Local\\Temp\\ipykernel_19420\\1932639929.py\u001b[0m in \u001b[0;36m<module>\u001b[1;34m\u001b[0m\n\u001b[0;32m      3\u001b[0m \u001b[0maxes\u001b[0m\u001b[1;33m[\u001b[0m\u001b[1;36m0\u001b[0m\u001b[1;33m]\u001b[0m\u001b[1;33m.\u001b[0m\u001b[0mplot\u001b[0m\u001b[1;33m(\u001b[0m\u001b[0mdata1\u001b[0m\u001b[1;33m.\u001b[0m\u001b[0mGMSL_GIA\u001b[0m\u001b[1;33m.\u001b[0m\u001b[0mdiff\u001b[0m\u001b[1;33m(\u001b[0m\u001b[1;33m)\u001b[0m\u001b[1;33m)\u001b[0m\u001b[1;33m;\u001b[0m \u001b[0maxes\u001b[0m\u001b[1;33m[\u001b[0m\u001b[1;36m0\u001b[0m\u001b[1;33m]\u001b[0m\u001b[1;33m.\u001b[0m\u001b[0mset_title\u001b[0m\u001b[1;33m(\u001b[0m\u001b[1;34m'1st Differencing'\u001b[0m\u001b[1;33m)\u001b[0m\u001b[1;33m\u001b[0m\u001b[1;33m\u001b[0m\u001b[0m\n\u001b[0;32m      4\u001b[0m \u001b[0maxes\u001b[0m\u001b[1;33m[\u001b[0m\u001b[1;36m1\u001b[0m\u001b[1;33m]\u001b[0m\u001b[1;33m.\u001b[0m\u001b[0mset\u001b[0m\u001b[1;33m(\u001b[0m\u001b[0mylim\u001b[0m\u001b[1;33m=\u001b[0m\u001b[1;33m(\u001b[0m\u001b[1;36m0\u001b[0m\u001b[1;33m,\u001b[0m\u001b[1;36m5\u001b[0m\u001b[1;33m)\u001b[0m\u001b[1;33m)\u001b[0m\u001b[1;33m\u001b[0m\u001b[1;33m\u001b[0m\u001b[0m\n\u001b[1;32m----> 5\u001b[1;33m \u001b[0mplot_pacf\u001b[0m\u001b[1;33m(\u001b[0m\u001b[0mdata1\u001b[0m\u001b[1;33m.\u001b[0m\u001b[0mGMSL_GIA\u001b[0m\u001b[1;33m.\u001b[0m\u001b[0mdiff\u001b[0m\u001b[1;33m(\u001b[0m\u001b[1;33m)\u001b[0m\u001b[1;33m.\u001b[0m\u001b[0mdropna\u001b[0m\u001b[1;33m(\u001b[0m\u001b[1;33m)\u001b[0m\u001b[1;33m,\u001b[0m \u001b[0max\u001b[0m\u001b[1;33m=\u001b[0m\u001b[0maxes\u001b[0m\u001b[1;33m[\u001b[0m\u001b[1;36m1\u001b[0m\u001b[1;33m]\u001b[0m\u001b[1;33m)\u001b[0m\u001b[1;33m\u001b[0m\u001b[1;33m\u001b[0m\u001b[0m\n\u001b[0m\u001b[0;32m      6\u001b[0m \u001b[1;33m\u001b[0m\u001b[0m\n\u001b[0;32m      7\u001b[0m \u001b[0mplt\u001b[0m\u001b[1;33m.\u001b[0m\u001b[0mshow\u001b[0m\u001b[1;33m(\u001b[0m\u001b[1;33m)\u001b[0m\u001b[1;33m\u001b[0m\u001b[1;33m\u001b[0m\u001b[0m\n",
      "\u001b[1;32m~\\anaconda3\\lib\\site-packages\\statsmodels\\graphics\\tsaplots.py\u001b[0m in \u001b[0;36mplot_pacf\u001b[1;34m(x, ax, lags, alpha, method, use_vlines, title, zero, vlines_kwargs, **kwargs)\u001b[0m\n\u001b[0;32m    361\u001b[0m         \u001b[0macf_x\u001b[0m \u001b[1;33m=\u001b[0m \u001b[0mpacf\u001b[0m\u001b[1;33m(\u001b[0m\u001b[0mx\u001b[0m\u001b[1;33m,\u001b[0m \u001b[0mnlags\u001b[0m\u001b[1;33m=\u001b[0m\u001b[0mnlags\u001b[0m\u001b[1;33m,\u001b[0m \u001b[0malpha\u001b[0m\u001b[1;33m=\u001b[0m\u001b[0malpha\u001b[0m\u001b[1;33m,\u001b[0m \u001b[0mmethod\u001b[0m\u001b[1;33m=\u001b[0m\u001b[0mmethod\u001b[0m\u001b[1;33m)\u001b[0m\u001b[1;33m\u001b[0m\u001b[1;33m\u001b[0m\u001b[0m\n\u001b[0;32m    362\u001b[0m     \u001b[1;32melse\u001b[0m\u001b[1;33m:\u001b[0m\u001b[1;33m\u001b[0m\u001b[1;33m\u001b[0m\u001b[0m\n\u001b[1;32m--> 363\u001b[1;33m         \u001b[0macf_x\u001b[0m\u001b[1;33m,\u001b[0m \u001b[0mconfint\u001b[0m \u001b[1;33m=\u001b[0m \u001b[0mpacf\u001b[0m\u001b[1;33m(\u001b[0m\u001b[0mx\u001b[0m\u001b[1;33m,\u001b[0m \u001b[0mnlags\u001b[0m\u001b[1;33m=\u001b[0m\u001b[0mnlags\u001b[0m\u001b[1;33m,\u001b[0m \u001b[0malpha\u001b[0m\u001b[1;33m=\u001b[0m\u001b[0malpha\u001b[0m\u001b[1;33m,\u001b[0m \u001b[0mmethod\u001b[0m\u001b[1;33m=\u001b[0m\u001b[0mmethod\u001b[0m\u001b[1;33m)\u001b[0m\u001b[1;33m\u001b[0m\u001b[1;33m\u001b[0m\u001b[0m\n\u001b[0m\u001b[0;32m    364\u001b[0m \u001b[1;33m\u001b[0m\u001b[0m\n\u001b[0;32m    365\u001b[0m     _plot_corr(\n",
      "\u001b[1;32m~\\anaconda3\\lib\\site-packages\\statsmodels\\tsa\\stattools.py\u001b[0m in \u001b[0;36mpacf\u001b[1;34m(x, nlags, method, alpha)\u001b[0m\n\u001b[0;32m    994\u001b[0m         \u001b[0mnlags\u001b[0m \u001b[1;33m=\u001b[0m \u001b[0mmin\u001b[0m\u001b[1;33m(\u001b[0m\u001b[0mint\u001b[0m\u001b[1;33m(\u001b[0m\u001b[1;36m10\u001b[0m \u001b[1;33m*\u001b[0m \u001b[0mnp\u001b[0m\u001b[1;33m.\u001b[0m\u001b[0mlog10\u001b[0m\u001b[1;33m(\u001b[0m\u001b[0mnobs\u001b[0m\u001b[1;33m)\u001b[0m\u001b[1;33m)\u001b[0m\u001b[1;33m,\u001b[0m \u001b[0mnobs\u001b[0m \u001b[1;33m//\u001b[0m \u001b[1;36m2\u001b[0m \u001b[1;33m-\u001b[0m \u001b[1;36m1\u001b[0m\u001b[1;33m)\u001b[0m\u001b[1;33m\u001b[0m\u001b[1;33m\u001b[0m\u001b[0m\n\u001b[0;32m    995\u001b[0m     \u001b[1;32mif\u001b[0m \u001b[0mnlags\u001b[0m \u001b[1;33m>=\u001b[0m \u001b[0mx\u001b[0m\u001b[1;33m.\u001b[0m\u001b[0mshape\u001b[0m\u001b[1;33m[\u001b[0m\u001b[1;36m0\u001b[0m\u001b[1;33m]\u001b[0m \u001b[1;33m//\u001b[0m \u001b[1;36m2\u001b[0m\u001b[1;33m:\u001b[0m\u001b[1;33m\u001b[0m\u001b[1;33m\u001b[0m\u001b[0m\n\u001b[1;32m--> 996\u001b[1;33m         raise ValueError(\n\u001b[0m\u001b[0;32m    997\u001b[0m             \u001b[1;34m\"Can only compute partial correlations for lags up to 50% of the \"\u001b[0m\u001b[1;33m\u001b[0m\u001b[1;33m\u001b[0m\u001b[0m\n\u001b[0;32m    998\u001b[0m             \u001b[1;34mf\"sample size. The requested nlags {nlags} must be < \"\u001b[0m\u001b[1;33m\u001b[0m\u001b[1;33m\u001b[0m\u001b[0m\n",
      "\u001b[1;31mValueError\u001b[0m: Can only compute partial correlations for lags up to 50% of the sample size. The requested nlags 15 must be < 13."
     ]
    },
    {
     "data": {
      "image/png": "[encoded data removed]",
      "text/plain": [
       "<Figure size 640x480 with 2 Axes>"
      ]
     },
     "metadata": {},
     "output_type": "display_data"
    }
   ],
   "source": [
    "#Parcial Autocorrelation of 1st Differencing\n",
    "# PACF plot of 1st differenced series\n",
    "plt.rcParams.update({'figure.figsize':(9,3), 'figure.dpi':120})\n",
    "\n",
    "fig, axes = plt.subplots(1, 2, sharex=True)\n",
    "axes[0].plot(df.value.diff()); axes[0].set_title('1st Differencing')\n",
    "axes[1].set(ylim=(0,5))\n",
    "plot_pacf(df.value.diff().dropna(), ax=axes[1])\n",
    "\n",
    "plt.show()"
   ]
  },
  {
   "cell_type": "code",
   "execution_count": 84,
   "id": "f2cb956b",
   "metadata": {},
   "outputs": [
    {
     "data": {
      "image/png": "[encoded data removed]",
      "text/plain": [
       "<Figure size 640x480 with 1 Axes>"
      ]
     },
     "metadata": {},
     "output_type": "display_data"
    }
   ],
   "source": [
    "import pandas as pd\n",
    "from matplotlib import pyplot as plt\n",
    "from statsmodels.graphics.tsaplots import plot_acf\n",
    "\n",
    "plot_acf(data1.GMSL_GIA)\n",
    "plt.show()"
   ]
  },
  {
   "cell_type": "code",
   "execution_count": 139,
   "id": "89929be9",
   "metadata": {
    "scrolled": true
   },
   "outputs": [
    {
     "name": "stdout",
     "output_type": "stream",
     "text": [
      "                               SARIMAX Results                                \n",
      "==============================================================================\n",
      "Dep. Variable:               GMSL_GIA   No. Observations:                   27\n",
      "Model:                 ARIMA(1, 0, 1)   Log Likelihood                 -78.519\n",
      "Date:                Fri, 28 Apr 2023   AIC                            165.039\n",
      "Time:                        19:50:34   BIC                            170.222\n",
      "Sample:                             0   HQIC                           166.580\n",
      "                                 - 27                                         \n",
      "Covariance Type:                  opg                                         \n",
      "==============================================================================\n",
      "                 coef    std err          z      P>|z|      [0.025      0.975]\n",
      "------------------------------------------------------------------------------\n",
      "const         10.6550     42.116      0.253      0.800     -71.891      93.201\n",
      "ar.L1          0.9908      0.059     16.782      0.000       0.875       1.107\n",
      "ma.L1          0.4625      0.193      2.399      0.016       0.085       0.840\n",
      "sigma2        16.3347      4.343      3.761      0.000       7.822      24.847\n",
      "===================================================================================\n",
      "Ljung-Box (L1) (Q):                   4.48   Jarque-Bera (JB):                 1.05\n",
      "Prob(Q):                              0.03   Prob(JB):                         0.59\n",
      "Heteroskedasticity (H):               2.77   Skew:                             0.42\n",
      "Prob(H) (two-sided):                  0.15   Kurtosis:                         3.47\n",
      "===================================================================================\n",
      "\n",
      "Warnings:\n",
      "[1] Covariance matrix calculated using the outer product of gradients (complex-step).\n"
     ]
    },
    {
     "name": "stderr",
     "output_type": "stream",
     "text": [
      "C:\\Users\\rebzl\\anaconda3\\lib\\site-packages\\statsmodels\\tsa\\statespace\\sarimax.py:966: UserWarning: Non-stationary starting autoregressive parameters found. Using zeros as starting parameters.\n",
      "  warn('Non-stationary starting autoregressive parameters'\n"
     ]
    }
   ],
   "source": [
    "#ARIMA Model\n",
    "#from statsmodels.tsa.arima_model import ARIMA\n",
    "#import statsmodels.tsa.SARIMAX\n",
    "#import statsmodels.tsa.arima.model.ARIMA\n",
    "#from statsmodels.tsa.arima.model.ARIMA import ARIMA\n",
    "import statsmodels.api as sm\n",
    "\n",
    "model = sm.tsa.arima.ARIMA(data1.GMSL_GIA, order=(1,0,1))\n",
    "model_fit = model.fit()\n",
    "print(model_fit.summary())"
   ]
  },
  {
   "cell_type": "code",
   "execution_count": 126,
   "id": "73059ec9",
   "metadata": {
    "scrolled": true
   },
   "outputs": [],
   "source": [
    "#import statsmodels.api as sm\n",
    "#mod = sm.tsa.arima.ARIMA(data1.GMSL_GIA, order=(1, 1, 1))\n",
    "#res = mod.fit()\n",
    "#print(res.summary())"
   ]
  },
  {
   "cell_type": "code",
   "execution_count": 109,
   "id": "7e1b787a",
   "metadata": {},
   "outputs": [
    {
     "data": {
      "image/png": "[encoded data removed]",
      "text/plain": [
       "<Figure size 640x480 with 2 Axes>"
      ]
     },
     "metadata": {},
     "output_type": "display_data"
    }
   ],
   "source": [
    "# Plot residual errors\n",
    "residuals = pd.DataFrame(model_fit.resid)\n",
    "fig, ax = plt.subplots(1,2)\n",
    "residuals.plot(title=\"Residuals\", ax=ax[0])\n",
    "residuals.plot(kind='kde', title='Density', ax=ax[1])\n",
    "plt.show()"
   ]
  },
  {
   "cell_type": "code",
   "execution_count": 141,
   "id": "cf36aeac",
   "metadata": {},
   "outputs": [],
   "source": [
    "#import statsmodels.api as sm\n",
    "\n",
    "#model_fit.plot_predict()\n",
    "#plt.show()"
   ]
  },
  {
   "cell_type": "code",
   "execution_count": null,
   "id": "c2fb24a9",
   "metadata": {},
   "outputs": [],
   "source": []
  }
 ],
 "metadata": {
  "kernelspec": {
   "display_name": "Python 3 (ipykernel)",
   "language": "python",
   "name": "python3"
  },
  "language_info": {
   "codemirror_mode": {
    "name": "ipython",
    "version": 3
   },
   "file_extension": ".py",
   "mimetype": "text/x-python",
   "name": "python",
   "nbconvert_exporter": "python",
   "pygments_lexer": "ipython3",
   "version": "3.9.13"
  }
 },
 "nbformat": 4,
 "nbformat_minor": 5
}
